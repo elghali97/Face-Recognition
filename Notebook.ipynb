{
 "cells": [
  {
   "cell_type": "markdown",
   "metadata": {},
   "source": [
    "# Face Recognition using CNN"
   ]
  },
  {
   "cell_type": "markdown",
   "metadata": {},
   "source": [
    "## Step 1:"
   ]
  },
  {
   "cell_type": "markdown",
   "metadata": {},
   "source": [
    "At the first, you should load the required libraries:"
   ]
  },
  {
   "cell_type": "code",
   "execution_count": 9,
   "metadata": {},
   "outputs": [],
   "source": [
    "import torch\n",
    "import torchvision\n",
    "import torchvision.transforms as transforms\n",
    "import matplotlib.pyplot as plt\n",
    "import numpy as np\n",
    "import torch.nn as nn\n",
    "import torch.nn.functional as F\n",
    "import torch.optim as optim\n",
    "from torch.utils.data import SubsetRandomSampler\n",
    "import pandas\n",
    "from collections import Counter\n",
    "from random import shuffle\n",
    "import matplotlib.pyplot as plt"
   ]
  },
  {
   "cell_type": "markdown",
   "metadata": {},
   "source": [
    "Import the Early Stopping Class"
   ]
  },
  {
   "cell_type": "code",
   "execution_count": 10,
   "metadata": {},
   "outputs": [],
   "source": [
    "# import EarlyStopping\n",
    "from pytorchtools import EarlyStopping"
   ]
  },
  {
   "cell_type": "markdown",
   "metadata": {},
   "source": [
    "* __Set default values for my parameters__"
   ]
  },
  {
   "cell_type": "code",
   "execution_count": 11,
   "metadata": {},
   "outputs": [],
   "source": [
    "batch_size = 64\n",
    "validation_split = 0.2\n",
    "num_folds= 2\n",
    "num_epoch = 15\n",
    "train_folder = './train_images'\n",
    "test_folder = './test_images'\n",
    "model_name = 'model'\n",
    "model_folder = './models'\n",
    "refresh_model = 30\n",
    "patience = 4"
   ]
  },
  {
   "cell_type": "markdown",
   "metadata": {},
   "source": [
    "* __Set inputs__"
   ]
  },
  {
   "cell_type": "code",
   "execution_count": 10,
   "metadata": {},
   "outputs": [
    {
     "name": "stdout",
     "output_type": "stream",
     "text": [
      "Batch size: 64\n"
     ]
    }
   ],
   "source": [
    "batch_size = int(input(\"Batch size: \"))"
   ]
  },
  {
   "cell_type": "code",
   "execution_count": 6,
   "metadata": {},
   "outputs": [
    {
     "name": "stdout",
     "output_type": "stream",
     "text": [
      "Percentage of the validation set (from 0 to 1): 0.3\n"
     ]
    }
   ],
   "source": [
    "validation_split = float(input(\"Percentage of the validation set (from 0 to 1): \"))"
   ]
  },
  {
   "cell_type": "code",
   "execution_count": 12,
   "metadata": {},
   "outputs": [
    {
     "name": "stdout",
     "output_type": "stream",
     "text": [
      "Number of folds. If there is more folds than network type, folds network type will loop: 2\n"
     ]
    }
   ],
   "source": [
    "num_fold = int(input(\"Number of folds. If there is more folds than network type, folds network type will loop: \"))"
   ]
  },
  {
   "cell_type": "code",
   "execution_count": 13,
   "metadata": {},
   "outputs": [
    {
     "name": "stdout",
     "output_type": "stream",
     "text": [
      "Number of epoch: 15\n"
     ]
    }
   ],
   "source": [
    "num_epoch = int(input(\"Number of epoch: \"))"
   ]
  },
  {
   "cell_type": "code",
   "execution_count": 14,
   "metadata": {},
   "outputs": [
    {
     "name": "stdout",
     "output_type": "stream",
     "text": [
      "Train folder: ./train_images\n"
     ]
    }
   ],
   "source": [
    "train_folder = input(\"Train folder: \")"
   ]
  },
  {
   "cell_type": "code",
   "execution_count": 15,
   "metadata": {},
   "outputs": [
    {
     "name": "stdout",
     "output_type": "stream",
     "text": [
      "Test folder: ./test_images\n"
     ]
    }
   ],
   "source": [
    "test_folder = input(\"Test folder: \")"
   ]
  },
  {
   "cell_type": "code",
   "execution_count": null,
   "metadata": {},
   "outputs": [],
   "source": [
    "model_name = input(\"Model name: \")"
   ]
  },
  {
   "cell_type": "code",
   "execution_count": null,
   "metadata": {},
   "outputs": [],
   "source": [
    "model_folder = input(\"Model folder: \")"
   ]
  },
  {
   "cell_type": "code",
   "execution_count": 37,
   "metadata": {},
   "outputs": [
    {
     "name": "stdout",
     "output_type": "stream",
     "text": [
      "Validating model rate: 50\n"
     ]
    }
   ],
   "source": [
    "refresh_model = int(input(\"Validating model rate: \"))"
   ]
  },
  {
   "cell_type": "code",
   "execution_count": 52,
   "metadata": {},
   "outputs": [
    {
     "name": "stdout",
     "output_type": "stream",
     "text": [
      "Patience for EarlyStopping: 7\n"
     ]
    }
   ],
   "source": [
    "patience = int(input(\"Patience for EarlyStopping: \"))"
   ]
  },
  {
   "cell_type": "markdown",
   "metadata": {},
   "source": [
    "## Step 2:"
   ]
  },
  {
   "cell_type": "markdown",
   "metadata": {},
   "source": [
    "* __Load labeled dataset and split it into a train data set and a validation dataset :__"
   ]
  },
  {
   "cell_type": "code",
   "execution_count": 12,
   "metadata": {},
   "outputs": [],
   "source": [
    "transform = transforms.Compose(\n",
    "    [transforms.Grayscale(),\n",
    "     transforms.ToTensor(),\n",
    "     transforms.Normalize((0.5,), (0.5,))])\n",
    "\n",
    "trainset = torchvision.datasets.ImageFolder(root=train_folder, transform=transform)\n",
    "\n",
    "dataset_size = len(trainset)\n",
    "fold_size = int(dataset_size / num_folds)\n",
    "fold_split_size = int(np.floor(validation_split * fold_size))\n",
    "indices = list(range(dataset_size))\n",
    "\n",
    "best_model = []\n",
    "train_loader = []\n",
    "validation_loader = []\n",
    "shuffle(indices)\n",
    "\n",
    "for i in range(num_folds):\n",
    "\n",
    "    split_start = dataset_size - (fold_split_size * (i + 1))\n",
    "    split_end = split_start + fold_split_size\n",
    "    train_indices = indices[0:split_start - 1] + indices[split_end + 1:dataset_size]\n",
    "    val_indices = indices[split_start:split_end]\n",
    "    train_sampler = SubsetRandomSampler(train_indices)\n",
    "    valid_sampler = SubsetRandomSampler(val_indices)\n",
    "    train_loader.append(torch.utils.data.DataLoader(trainset, batch_size=batch_size,\n",
    "                                                    sampler=train_sampler, num_workers=2))\n",
    "    validation_loader.append(torch.utils.data.DataLoader(trainset, batch_size=batch_size,\n",
    "                                                         sampler=valid_sampler,num_workers=2))"
   ]
  },
  {
   "cell_type": "markdown",
   "metadata": {},
   "source": [
    "* __Load unlabeled dataset and creating loaders:__"
   ]
  },
  {
   "cell_type": "code",
   "execution_count": 13,
   "metadata": {},
   "outputs": [],
   "source": [
    "testset = torchvision.datasets.ImageFolder(root='./test_images',  transform=transform)\n",
    "\n",
    "test_loader = torch.utils.data.DataLoader(testset, batch_size=4,\n",
    "                                         shuffle=False, num_workers=2)\n",
    "\n",
    "classes = ('other', 'face')\n"
   ]
  },
  {
   "cell_type": "markdown",
   "metadata": {},
   "source": [
    "* __Visualizing some random training images :__"
   ]
  },
  {
   "cell_type": "code",
   "execution_count": 17,
   "metadata": {},
   "outputs": [],
   "source": [
    "def imshow(img):\n",
    "    img = img / 2 + 0.5     # unnormalize\n",
    "    npimg = img.numpy()\n",
    "    plt.imshow(np.transpose(npimg, (1, 2, 0)))\n",
    "    plt.show()"
   ]
  },
  {
   "cell_type": "code",
   "execution_count": 7,
   "metadata": {},
   "outputs": [],
   "source": [
    "# get some random training images\n",
    "dataiter = iter(train_loader[0])\n",
    "images, labels = dataiter.next()"
   ]
  },
  {
   "cell_type": "code",
   "execution_count": 8,
   "metadata": {},
   "outputs": [
    {
     "data": {
      "image/png": "[encoded data removed]",
      "text/plain": [
       "<matplotlib.figure.Figure at 0x7fdc5fef5668>"
      ]
     },
     "metadata": {},
     "output_type": "display_data"
    },
    {
     "name": "stdout",
     "output_type": "stream",
     "text": [
      "other other other other\n"
     ]
    }
   ],
   "source": [
    "# show images\n",
    "imshow(torchvision.utils.make_grid([images[j] for j in range(4)]))\n",
    "# print labels\n",
    "print(' '.join('%5s' % classes[labels[j]] for j in range(4)))"
   ]
  },
  {
   "cell_type": "markdown",
   "metadata": {},
   "source": [
    "* __Some stats about the train dataset:__"
   ]
  },
  {
   "cell_type": "code",
   "execution_count": 9,
   "metadata": {},
   "outputs": [],
   "source": [
    "def stat_img (train_loader):\n",
    "    list_labels=[]\n",
    "    for trainloader in train_loader:\n",
    "        l = []\n",
    "        for i, data in enumerate(trainloader,0):\n",
    "            inputs, labels = data\n",
    "            for j in range(len(labels)):\n",
    "                l.append(classes[labels[j]])\n",
    "            print(len(l))\n",
    "        list_labels.append(l)\n",
    "    \n",
    "    return list_labels"
   ]
  },
  {
   "cell_type": "code",
   "execution_count": null,
   "metadata": {},
   "outputs": [],
   "source": [
    "labels = stat_img (train_loader)"
   ]
  },
  {
   "cell_type": "code",
   "execution_count": 11,
   "metadata": {},
   "outputs": [
    {
     "data": {
      "text/plain": [
       "<matplotlib.axes._subplots.AxesSubplot at 0x7fdc5f4300b8>"
      ]
     },
     "execution_count": 11,
     "metadata": {},
     "output_type": "execute_result"
    },
    {
     "data": {
      "image/png": "[encoded data removed]",
      "text/plain": [
       "<matplotlib.figure.Figure at 0x7fdce27fae80>"
      ]
     },
     "metadata": {},
     "output_type": "display_data"
    }
   ],
   "source": [
    "test = dict()\n",
    "for i in range(len(labels)):\n",
    "    test[i] = Counter(labels[i])\n",
    "df = pandas.DataFrame.from_dict(test, orient='index')\n",
    "df.plot(kind='bar')"
   ]
  },
  {
   "cell_type": "code",
   "execution_count": 12,
   "metadata": {},
   "outputs": [
    {
     "name": "stdout",
     "output_type": "stream",
     "text": [
      "******************************************\n",
      "******* Description of the datasets ****** \n",
      "******************************************\n",
      "*************** DATASET N° 0 ************* \n",
      "------------------------------------------\n",
      " Number of faces :  58331\n",
      " Number of others:  24216\n",
      " Total           :  82547\n",
      "------------------------------------------\n",
      " Number of faces :  71%\n",
      " Number of others:  29%\n",
      "******************************************\n",
      "*************** DATASET N° 1 ************* \n",
      "------------------------------------------\n",
      " Number of faces :  58221\n",
      " Number of others:  24325\n",
      " Total           :  82546\n",
      "------------------------------------------\n",
      " Number of faces :  71%\n",
      " Number of others:  29%\n",
      "******************************************\n"
     ]
    }
   ],
   "source": [
    "print(\"******************************************\")\n",
    "print(\"******* Description of the datasets ****** \")\n",
    "print(\"******************************************\")\n",
    "\n",
    "for i in range(len(labels)):\n",
    "    faces = df['face'][i]\n",
    "    others = df['other'][i]\n",
    "    print(\"*************** DATASET N° {0:1} ************* \".format(i))\n",
    "    print(\"------------------------------------------\")\n",
    "    print(\" Number of faces : \",faces)\n",
    "    print(\" Number of others: \",others)\n",
    "    print(\" Total           : \", faces+others)\n",
    "    print(\"------------------------------------------\")\n",
    "    print(\" Number of faces :  {0:.0%}\".format(faces/(faces+others)))\n",
    "    print(\" Number of others:  {0:.0%}\".format(others/(faces+others)))\n",
    "    print(\"******************************************\")\n"
   ]
  },
  {
   "cell_type": "markdown",
   "metadata": {},
   "source": [
    "## Step 3:"
   ]
  },
  {
   "cell_type": "markdown",
   "metadata": {},
   "source": [
    "* __Defining the architecture of the Neural Network__"
   ]
  },
  {
   "cell_type": "markdown",
   "metadata": {},
   "source": [
    "        1. First Architecture"
   ]
  },
  {
   "cell_type": "code",
   "execution_count": 14,
   "metadata": {},
   "outputs": [],
   "source": [
    "class Net(nn.Module):\n",
    "    def __init__(self):\n",
    "        super(Net, self).__init__()\n",
    "        self.conv1 = nn.Conv2d(1, 6, 5)\n",
    "        self.pool = nn.MaxPool2d(2, 2)\n",
    "        self.conv2 = nn.Conv2d(6, 16, 5)\n",
    "        self.fc1 = nn.Linear(16 * 6 * 6, 120)\n",
    "        self.fc2 = nn.Linear(120, 84)\n",
    "        self.fc3 = nn.Linear(84, 2)\n",
    "\n",
    "    def forward(self, x):\n",
    "        x = self.pool(F.relu(self.conv1(x)))\n",
    "        x = self.pool(F.relu(self.conv2(x)))\n",
    "        x = x.view(-1, 16 * 6 * 6)\n",
    "        x = F.relu(self.fc1(x))\n",
    "        x = F.relu(self.fc2(x))\n",
    "        x = self.fc3(x)\n",
    "        x = F.softmax(x, 1)\n",
    "        return x\n",
    "\n",
    "    def num_flat_features(self, x):\n",
    "        size = x.size()[1:]  # all dimensions except the batch dimension\n",
    "        num_features = 1\n",
    "        for s in size:\n",
    "            num_features *= s\n",
    "        return num_features"
   ]
  },
  {
   "cell_type": "code",
   "execution_count": 15,
   "metadata": {},
   "outputs": [
    {
     "name": "stdout",
     "output_type": "stream",
     "text": [
      "Net(\n",
      "  (conv1): Conv2d(1, 6, kernel_size=(5, 5), stride=(1, 1))\n",
      "  (pool): MaxPool2d(kernel_size=2, stride=2, padding=0, dilation=1, ceil_mode=False)\n",
      "  (conv2): Conv2d(6, 16, kernel_size=(5, 5), stride=(1, 1))\n",
      "  (fc1): Linear(in_features=576, out_features=120, bias=True)\n",
      "  (fc2): Linear(in_features=120, out_features=84, bias=True)\n",
      "  (fc3): Linear(in_features=84, out_features=2, bias=True)\n",
      ")\n"
     ]
    }
   ],
   "source": [
    "net = Net()\n",
    "print(net)"
   ]
  },
  {
   "cell_type": "markdown",
   "metadata": {},
   "source": [
    "        2. Second Architecture"
   ]
  },
  {
   "cell_type": "code",
   "execution_count": 15,
   "metadata": {},
   "outputs": [],
   "source": [
    "class Net2(nn.Module):\n",
    "    def __init__(self):\n",
    "        super(Net2, self).__init__()\n",
    "        self.conv1 = nn.Conv2d(1, 6, 5)\n",
    "        self.pool = nn.MaxPool2d(2, 2)\n",
    "        self.conv2 = nn.Conv2d(6, 10, 5)\n",
    "        self.fc1 = nn.Linear(10 * 6 * 6, 242)\n",
    "        self.fc2 = nn.Linear(242, 42)\n",
    "        self.fc3 = nn.Linear(42, 2)\n",
    "\n",
    "    def forward(self, x):\n",
    "        x = self.pool(F.relu(self.conv1(x)))\n",
    "        x = self.pool(F.relu(self.conv2(x)))\n",
    "        x = x.view(-1, 10 * 6 * 6)\n",
    "        x = F.relu(self.fc1(x))\n",
    "        x = F.relu(self.fc2(x))\n",
    "        x = self.fc3(x)\n",
    "        x = F.softmax(x, 1)\n",
    "        return x\n",
    "\n",
    "    def num_flat_features(self, x):\n",
    "        size = x.size()[1:]  # all dimensions except the batch dimension\n",
    "        num_features = 1\n",
    "        for s in size:\n",
    "            num_features *= s\n",
    "        return num_features"
   ]
  },
  {
   "cell_type": "code",
   "execution_count": 16,
   "metadata": {},
   "outputs": [
    {
     "name": "stdout",
     "output_type": "stream",
     "text": [
      "Net2(\n",
      "  (conv1): Conv2d(1, 6, kernel_size=(5, 5), stride=(1, 1))\n",
      "  (pool): MaxPool2d(kernel_size=2, stride=2, padding=0, dilation=1, ceil_mode=False)\n",
      "  (conv2): Conv2d(6, 10, kernel_size=(5, 5), stride=(1, 1))\n",
      "  (fc1): Linear(in_features=360, out_features=242, bias=True)\n",
      "  (fc2): Linear(in_features=242, out_features=42, bias=True)\n",
      "  (fc3): Linear(in_features=42, out_features=2, bias=True)\n",
      ")\n"
     ]
    }
   ],
   "source": [
    "net2 = Net2()\n",
    "print(net2)"
   ]
  },
  {
   "cell_type": "markdown",
   "metadata": {},
   "source": [
    "* __Training with the first architecture__"
   ]
  },
  {
   "cell_type": "code",
   "execution_count": 20,
   "metadata": {},
   "outputs": [],
   "source": [
    "def train_model(model,best_model):\n",
    "    \n",
    "    average_train = []\n",
    "    average_valid = []\n",
    "\n",
    "    for i in range(num_folds):\n",
    "        \n",
    "        # initialize the early_stopping object\n",
    "        early_stopping = EarlyStopping(patience=patience, verbose=True)\n",
    "        \n",
    "        best_loss = float('inf')\n",
    "        \n",
    "        # to track the training loss as the model trains\n",
    "        train_losses = []\n",
    "        # to track the validation loss as the model trains\n",
    "        valid_losses = []\n",
    "        # to track the average training loss per epoch as the model trains\n",
    "        avg_train_losses = []\n",
    "        # to track the average validation loss per epoch as the model trains\n",
    "        avg_valid_losses = [] \n",
    "        \n",
    "        criterion = nn.MSELoss()\n",
    "        optimizer = optim.SGD(model[i].parameters(), lr=0.001, momentum=0.9)\n",
    "        \n",
    "        print('Training fold %d' % i)  \n",
    "        \n",
    "        for epoch in range(1,num_epoch+1):\n",
    "            ###################\n",
    "            # train the model #\n",
    "            ###################\n",
    "            model[i].train() # prep model for training\n",
    "            \n",
    "            for batch, (data, target) in enumerate(train_loader[i], 1):\n",
    "\n",
    "                # clear the gradients of all optimized variables\n",
    "                optimizer.zero_grad()\n",
    "                # forward pass: compute predicted outputs by passing inputs to the model\n",
    "                output = model[i](data)\n",
    "                \n",
    "                target = torch.eye(2)[target.long()]\n",
    "                # calculate the loss\n",
    "                loss = criterion(output, target)\n",
    "                # backward pass: compute gradient of the loss with respect to model parameters\n",
    "                loss.backward()\n",
    "                # perform a single optimization step (parameter update)\n",
    "                optimizer.step()\n",
    "                # record training loss\n",
    "                train_losses.append(loss.item())\n",
    "\n",
    "                if batch % refresh_model == 1:\n",
    "\n",
    "                    ######################    \n",
    "                    # validate the model #\n",
    "                    ######################\n",
    "                    model[i].eval() # prep model for evaluation\n",
    "                    for data, target in validation_loader[i]:\n",
    "                        # forward pass: compute predicted outputs by passing inputs to the model\n",
    "                        output = model[i](data)\n",
    "                        \n",
    "                        target = torch.eye(2)[target.long()]\n",
    "                        # calculate the loss\n",
    "                        loss = criterion(output, target)\n",
    "                        # record validation loss\n",
    "                        valid_losses.append(loss.item())\n",
    "\n",
    "                    # print training/validation statistics \n",
    "                    # calculate average loss over an epoch\n",
    "                    train_loss = np.average(train_losses)\n",
    "                    valid_loss = np.average(valid_losses)\n",
    "                    avg_train_losses.append(train_loss)\n",
    "                    avg_valid_losses.append(valid_loss)\n",
    "\n",
    "                    epoch_len = len(str(num_epoch))\n",
    "                    train_loader_len = len(str(len(train_loader[i])))\n",
    "                    \n",
    "                    \n",
    "\n",
    "                    print_msg = (f'[{epoch:>{epoch_len}}/{num_epoch:>{epoch_len}}] ' +\n",
    "                                 f'[{batch:>{epoch_len}}/{len(train_loader[i]):>{train_loader_len}}] ' +\n",
    "                                 f'train_loss: {train_loss:.5f} ' +\n",
    "                                 f'valid_loss: {valid_loss:.5f}')\n",
    "\n",
    "                    print(print_msg)\n",
    "\n",
    "                    # clear lists to track next epoch\n",
    "                    train_losses = []\n",
    "                    valid_losses = []\n",
    "                    \n",
    "                    if valid_loss < best_loss:\n",
    "                        best_loss = valid_loss\n",
    "                        best_model[i].load_state_dict(model[i].state_dict())\n",
    "\n",
    "                    # early_stopping needs the validation loss to check if it has decresed, \n",
    "                    # and if it has, it will make a checkpoint of the current model\n",
    "                    early_stopping(valid_loss, model[i])\n",
    "\n",
    "                    if early_stopping.early_stop:\n",
    "                        print(\"Early stopping\")\n",
    "                        break\n",
    "\n",
    "            if early_stopping.early_stop:\n",
    "                average_train.append(avg_train_losses)\n",
    "                average_valid.append(avg_valid_losses)\n",
    "                break\n",
    "\n",
    "    return  model, best_model, average_train, average_valid"
   ]
  },
  {
   "cell_type": "code",
   "execution_count": 53,
   "metadata": {
    "scrolled": true
   },
   "outputs": [
    {
     "name": "stdout",
     "output_type": "stream",
     "text": [
      "Training fold 0\n",
      "[ 1/15] [ 1/1290] train_loss: 0.25165 valid_loss: 0.25139\n",
      "Validation loss decreased (inf --> 0.251385).  Saving model ...\n",
      "[ 1/15] [31/1290] train_loss: 0.24811 valid_loss: 0.24400\n",
      "Validation loss decreased (0.251385 --> 0.243997).  Saving model ...\n",
      "[ 1/15] [61/1290] train_loss: 0.23894 valid_loss: 0.23588\n",
      "Validation loss decreased (0.243997 --> 0.235879).  Saving model ...\n",
      "[ 1/15] [91/1290] train_loss: 0.23276 valid_loss: 0.23022\n",
      "Validation loss decreased (0.235879 --> 0.230222).  Saving model ...\n",
      "[ 1/15] [121/1290] train_loss: 0.22908 valid_loss: 0.22583\n",
      "Validation loss decreased (0.230222 --> 0.225833).  Saving model ...\n",
      "[ 1/15] [151/1290] train_loss: 0.22353 valid_loss: 0.22243\n",
      "Validation loss decreased (0.225833 --> 0.222431).  Saving model ...\n",
      "[ 1/15] [181/1290] train_loss: 0.22064 valid_loss: 0.21896\n",
      "Validation loss decreased (0.222431 --> 0.218962).  Saving model ...\n",
      "[ 1/15] [211/1290] train_loss: 0.21957 valid_loss: 0.21673\n",
      "Validation loss decreased (0.218962 --> 0.216735).  Saving model ...\n",
      "[ 1/15] [241/1290] train_loss: 0.21405 valid_loss: 0.21484\n",
      "Validation loss decreased (0.216735 --> 0.214843).  Saving model ...\n",
      "[ 1/15] [271/1290] train_loss: 0.21080 valid_loss: 0.21294\n",
      "Validation loss decreased (0.214843 --> 0.212945).  Saving model ...\n",
      "[ 1/15] [301/1290] train_loss: 0.21053 valid_loss: 0.21135\n",
      "Validation loss decreased (0.212945 --> 0.211349).  Saving model ...\n",
      "[ 1/15] [331/1290] train_loss: 0.20468 valid_loss: 0.21013\n",
      "Validation loss decreased (0.211349 --> 0.210133).  Saving model ...\n",
      "[ 1/15] [361/1290] train_loss: 0.20860 valid_loss: 0.20888\n",
      "Validation loss decreased (0.210133 --> 0.208878).  Saving model ...\n",
      "[ 1/15] [391/1290] train_loss: 0.20900 valid_loss: 0.20792\n",
      "Validation loss decreased (0.208878 --> 0.207923).  Saving model ...\n",
      "[ 1/15] [421/1290] train_loss: 0.20288 valid_loss: 0.20708\n",
      "Validation loss decreased (0.207923 --> 0.207075).  Saving model ...\n",
      "[ 1/15] [451/1290] train_loss: 0.20562 valid_loss: 0.20659\n",
      "Validation loss decreased (0.207075 --> 0.206595).  Saving model ...\n",
      "[ 1/15] [481/1290] train_loss: 0.20615 valid_loss: 0.20521\n",
      "Validation loss decreased (0.206595 --> 0.205215).  Saving model ...\n",
      "[ 1/15] [511/1290] train_loss: 0.19407 valid_loss: 0.20410\n",
      "Validation loss decreased (0.205215 --> 0.204098).  Saving model ...\n",
      "[ 1/15] [541/1290] train_loss: 0.20352 valid_loss: 0.20337\n",
      "Validation loss decreased (0.204098 --> 0.203367).  Saving model ...\n",
      "[ 1/15] [571/1290] train_loss: 0.19886 valid_loss: 0.20260\n",
      "Validation loss decreased (0.203367 --> 0.202595).  Saving model ...\n",
      "[ 1/15] [601/1290] train_loss: 0.20197 valid_loss: 0.20107\n",
      "Validation loss decreased (0.202595 --> 0.201067).  Saving model ...\n",
      "[ 1/15] [631/1290] train_loss: 0.19495 valid_loss: 0.19995\n",
      "Validation loss decreased (0.201067 --> 0.199951).  Saving model ...\n",
      "[ 1/15] [661/1290] train_loss: 0.19665 valid_loss: 0.19866\n",
      "Validation loss decreased (0.199951 --> 0.198658).  Saving model ...\n",
      "[ 1/15] [691/1290] train_loss: 0.19867 valid_loss: 0.19730\n",
      "Validation loss decreased (0.198658 --> 0.197296).  Saving model ...\n",
      "[ 1/15] [721/1290] train_loss: 0.19499 valid_loss: 0.19587\n",
      "Validation loss decreased (0.197296 --> 0.195867).  Saving model ...\n",
      "[ 1/15] [751/1290] train_loss: 0.19772 valid_loss: 0.19403\n",
      "Validation loss decreased (0.195867 --> 0.194029).  Saving model ...\n",
      "[ 1/15] [781/1290] train_loss: 0.19186 valid_loss: 0.19230\n",
      "Validation loss decreased (0.194029 --> 0.192305).  Saving model ...\n",
      "[ 1/15] [811/1290] train_loss: 0.19359 valid_loss: 0.19052\n",
      "Validation loss decreased (0.192305 --> 0.190524).  Saving model ...\n",
      "[ 1/15] [841/1290] train_loss: 0.18499 valid_loss: 0.18864\n",
      "Validation loss decreased (0.190524 --> 0.188636).  Saving model ...\n",
      "[ 1/15] [871/1290] train_loss: 0.18440 valid_loss: 0.18625\n",
      "Validation loss decreased (0.188636 --> 0.186250).  Saving model ...\n",
      "[ 1/15] [901/1290] train_loss: 0.18399 valid_loss: 0.18394\n",
      "Validation loss decreased (0.186250 --> 0.183942).  Saving model ...\n",
      "[ 1/15] [931/1290] train_loss: 0.18400 valid_loss: 0.18116\n",
      "Validation loss decreased (0.183942 --> 0.181165).  Saving model ...\n",
      "[ 1/15] [961/1290] train_loss: 0.17681 valid_loss: 0.17794\n",
      "Validation loss decreased (0.181165 --> 0.177939).  Saving model ...\n",
      "[ 1/15] [991/1290] train_loss: 0.17714 valid_loss: 0.17464\n",
      "Validation loss decreased (0.177939 --> 0.174643).  Saving model ...\n",
      "[ 1/15] [1021/1290] train_loss: 0.17463 valid_loss: 0.17072\n",
      "Validation loss decreased (0.174643 --> 0.170716).  Saving model ...\n",
      "[ 1/15] [1051/1290] train_loss: 0.16953 valid_loss: 0.16670\n",
      "Validation loss decreased (0.170716 --> 0.166705).  Saving model ...\n",
      "[ 1/15] [1081/1290] train_loss: 0.16853 valid_loss: 0.16239\n",
      "Validation loss decreased (0.166705 --> 0.162394).  Saving model ...\n",
      "[ 1/15] [1111/1290] train_loss: 0.16055 valid_loss: 0.15763\n",
      "Validation loss decreased (0.162394 --> 0.157634).  Saving model ...\n",
      "[ 1/15] [1141/1290] train_loss: 0.15191 valid_loss: 0.15284\n",
      "Validation loss decreased (0.157634 --> 0.152835).  Saving model ...\n",
      "[ 1/15] [1171/1290] train_loss: 0.15285 valid_loss: 0.14682\n",
      "Validation loss decreased (0.152835 --> 0.146819).  Saving model ...\n",
      "[ 1/15] [1201/1290] train_loss: 0.14398 valid_loss: 0.14065\n",
      "Validation loss decreased (0.146819 --> 0.140655).  Saving model ...\n",
      "[ 1/15] [1231/1290] train_loss: 0.13648 valid_loss: 0.13489\n",
      "Validation loss decreased (0.140655 --> 0.134892).  Saving model ...\n",
      "[ 1/15] [1261/1290] train_loss: 0.12872 valid_loss: 0.12850\n",
      "Validation loss decreased (0.134892 --> 0.128496).  Saving model ...\n",
      "[ 2/15] [ 1/1290] train_loss: 0.12314 valid_loss: 0.12204\n",
      "Validation loss decreased (0.128496 --> 0.122042).  Saving model ...\n",
      "[ 2/15] [31/1290] train_loss: 0.11519 valid_loss: 0.11557\n",
      "Validation loss decreased (0.122042 --> 0.115575).  Saving model ...\n",
      "[ 2/15] [61/1290] train_loss: 0.11548 valid_loss: 0.10970\n",
      "Validation loss decreased (0.115575 --> 0.109700).  Saving model ...\n",
      "[ 2/15] [91/1290] train_loss: 0.10081 valid_loss: 0.10400\n",
      "Validation loss decreased (0.109700 --> 0.104001).  Saving model ...\n",
      "[ 2/15] [121/1290] train_loss: 0.09828 valid_loss: 0.09912\n",
      "Validation loss decreased (0.104001 --> 0.099120).  Saving model ...\n",
      "[ 2/15] [151/1290] train_loss: 0.09730 valid_loss: 0.09468\n",
      "Validation loss decreased (0.099120 --> 0.094684).  Saving model ...\n",
      "[ 2/15] [181/1290] train_loss: 0.09482 valid_loss: 0.09124\n",
      "Validation loss decreased (0.094684 --> 0.091236).  Saving model ...\n",
      "[ 2/15] [211/1290] train_loss: 0.09426 valid_loss: 0.08686\n",
      "Validation loss decreased (0.091236 --> 0.086859).  Saving model ...\n",
      "[ 2/15] [241/1290] train_loss: 0.08605 valid_loss: 0.08372\n",
      "Validation loss decreased (0.086859 --> 0.083724).  Saving model ...\n",
      "[ 2/15] [271/1290] train_loss: 0.08018 valid_loss: 0.08131\n",
      "Validation loss decreased (0.083724 --> 0.081312).  Saving model ...\n",
      "[ 2/15] [301/1290] train_loss: 0.08741 valid_loss: 0.07849\n",
      "Validation loss decreased (0.081312 --> 0.078494).  Saving model ...\n",
      "[ 2/15] [331/1290] train_loss: 0.08167 valid_loss: 0.07646\n",
      "Validation loss decreased (0.078494 --> 0.076463).  Saving model ...\n",
      "[ 2/15] [361/1290] train_loss: 0.07781 valid_loss: 0.07484\n",
      "Validation loss decreased (0.076463 --> 0.074838).  Saving model ...\n",
      "[ 2/15] [391/1290] train_loss: 0.07089 valid_loss: 0.07306\n",
      "Validation loss decreased (0.074838 --> 0.073058).  Saving model ...\n",
      "[ 2/15] [421/1290] train_loss: 0.07864 valid_loss: 0.07110\n",
      "Validation loss decreased (0.073058 --> 0.071100).  Saving model ...\n",
      "[ 2/15] [451/1290] train_loss: 0.07360 valid_loss: 0.06989\n",
      "Validation loss decreased (0.071100 --> 0.069890).  Saving model ...\n",
      "[ 2/15] [481/1290] train_loss: 0.07130 valid_loss: 0.06799\n",
      "Validation loss decreased (0.069890 --> 0.067993).  Saving model ...\n",
      "[ 2/15] [511/1290] train_loss: 0.06782 valid_loss: 0.06666\n",
      "Validation loss decreased (0.067993 --> 0.066663).  Saving model ...\n",
      "[ 2/15] [541/1290] train_loss: 0.06625 valid_loss: 0.06641\n",
      "Validation loss decreased (0.066663 --> 0.066414).  Saving model ...\n",
      "[ 2/15] [571/1290] train_loss: 0.06251 valid_loss: 0.06485\n",
      "Validation loss decreased (0.066414 --> 0.064851).  Saving model ...\n",
      "[ 2/15] [601/1290] train_loss: 0.06537 valid_loss: 0.06302\n",
      "Validation loss decreased (0.064851 --> 0.063016).  Saving model ...\n"
     ]
    },
    {
     "name": "stdout",
     "output_type": "stream",
     "text": [
      "[ 2/15] [631/1290] train_loss: 0.06210 valid_loss: 0.06218\n",
      "Validation loss decreased (0.063016 --> 0.062185).  Saving model ...\n",
      "[ 2/15] [661/1290] train_loss: 0.06307 valid_loss: 0.06204\n",
      "Validation loss decreased (0.062185 --> 0.062044).  Saving model ...\n",
      "[ 2/15] [691/1290] train_loss: 0.05688 valid_loss: 0.06024\n",
      "Validation loss decreased (0.062044 --> 0.060242).  Saving model ...\n",
      "[ 2/15] [721/1290] train_loss: 0.05924 valid_loss: 0.05929\n",
      "Validation loss decreased (0.060242 --> 0.059289).  Saving model ...\n",
      "[ 2/15] [751/1290] train_loss: 0.06519 valid_loss: 0.05823\n",
      "Validation loss decreased (0.059289 --> 0.058233).  Saving model ...\n",
      "[ 2/15] [781/1290] train_loss: 0.06262 valid_loss: 0.05733\n",
      "Validation loss decreased (0.058233 --> 0.057331).  Saving model ...\n",
      "[ 2/15] [811/1290] train_loss: 0.06566 valid_loss: 0.05777\n",
      "EarlyStopping counter: 1 out of 7\n",
      "[ 2/15] [841/1290] train_loss: 0.06042 valid_loss: 0.05550\n",
      "Validation loss decreased (0.057331 --> 0.055504).  Saving model ...\n",
      "[ 2/15] [871/1290] train_loss: 0.05169 valid_loss: 0.05513\n",
      "Validation loss decreased (0.055504 --> 0.055132).  Saving model ...\n",
      "[ 2/15] [901/1290] train_loss: 0.05664 valid_loss: 0.05412\n",
      "Validation loss decreased (0.055132 --> 0.054115).  Saving model ...\n",
      "[ 2/15] [931/1290] train_loss: 0.05610 valid_loss: 0.05361\n",
      "Validation loss decreased (0.054115 --> 0.053615).  Saving model ...\n",
      "[ 2/15] [961/1290] train_loss: 0.05824 valid_loss: 0.05323\n",
      "Validation loss decreased (0.053615 --> 0.053230).  Saving model ...\n",
      "[ 2/15] [991/1290] train_loss: 0.05925 valid_loss: 0.05263\n",
      "Validation loss decreased (0.053230 --> 0.052629).  Saving model ...\n",
      "[ 2/15] [1021/1290] train_loss: 0.05508 valid_loss: 0.05138\n",
      "Validation loss decreased (0.052629 --> 0.051381).  Saving model ...\n",
      "[ 2/15] [1051/1290] train_loss: 0.05080 valid_loss: 0.05128\n",
      "Validation loss decreased (0.051381 --> 0.051282).  Saving model ...\n",
      "[ 2/15] [1081/1290] train_loss: 0.05591 valid_loss: 0.05037\n",
      "Validation loss decreased (0.051282 --> 0.050374).  Saving model ...\n",
      "[ 2/15] [1111/1290] train_loss: 0.05125 valid_loss: 0.05091\n",
      "EarlyStopping counter: 1 out of 7\n",
      "[ 2/15] [1141/1290] train_loss: 0.04592 valid_loss: 0.04935\n",
      "Validation loss decreased (0.050374 --> 0.049345).  Saving model ...\n",
      "[ 2/15] [1171/1290] train_loss: 0.05253 valid_loss: 0.04894\n",
      "Validation loss decreased (0.049345 --> 0.048943).  Saving model ...\n",
      "[ 2/15] [1201/1290] train_loss: 0.04601 valid_loss: 0.04816\n",
      "Validation loss decreased (0.048943 --> 0.048161).  Saving model ...\n",
      "[ 2/15] [1231/1290] train_loss: 0.04912 valid_loss: 0.04941\n",
      "EarlyStopping counter: 1 out of 7\n",
      "[ 2/15] [1261/1290] train_loss: 0.04930 valid_loss: 0.04751\n",
      "Validation loss decreased (0.048161 --> 0.047511).  Saving model ...\n",
      "[ 3/15] [ 1/1290] train_loss: 0.03958 valid_loss: 0.04716\n",
      "Validation loss decreased (0.047511 --> 0.047164).  Saving model ...\n",
      "[ 3/15] [31/1290] train_loss: 0.04974 valid_loss: 0.04735\n",
      "EarlyStopping counter: 1 out of 7\n",
      "[ 3/15] [61/1290] train_loss: 0.04356 valid_loss: 0.04679\n",
      "Validation loss decreased (0.047164 --> 0.046789).  Saving model ...\n",
      "[ 3/15] [91/1290] train_loss: 0.04973 valid_loss: 0.04605\n",
      "Validation loss decreased (0.046789 --> 0.046048).  Saving model ...\n",
      "[ 3/15] [121/1290] train_loss: 0.04490 valid_loss: 0.04607\n",
      "EarlyStopping counter: 1 out of 7\n",
      "[ 3/15] [151/1290] train_loss: 0.04716 valid_loss: 0.04801\n",
      "EarlyStopping counter: 2 out of 7\n",
      "[ 3/15] [181/1290] train_loss: 0.05465 valid_loss: 0.04536\n",
      "Validation loss decreased (0.046048 --> 0.045356).  Saving model ...\n",
      "[ 3/15] [211/1290] train_loss: 0.04614 valid_loss: 0.04459\n",
      "Validation loss decreased (0.045356 --> 0.044588).  Saving model ...\n",
      "[ 3/15] [241/1290] train_loss: 0.04488 valid_loss: 0.04475\n",
      "EarlyStopping counter: 1 out of 7\n",
      "[ 3/15] [271/1290] train_loss: 0.04338 valid_loss: 0.04405\n",
      "Validation loss decreased (0.044588 --> 0.044048).  Saving model ...\n",
      "[ 3/15] [301/1290] train_loss: 0.04210 valid_loss: 0.04607\n",
      "EarlyStopping counter: 1 out of 7\n",
      "[ 3/15] [331/1290] train_loss: 0.04548 valid_loss: 0.04340\n",
      "Validation loss decreased (0.044048 --> 0.043398).  Saving model ...\n",
      "[ 3/15] [361/1290] train_loss: 0.04795 valid_loss: 0.04314\n",
      "Validation loss decreased (0.043398 --> 0.043140).  Saving model ...\n",
      "[ 3/15] [391/1290] train_loss: 0.04602 valid_loss: 0.04306\n",
      "Validation loss decreased (0.043140 --> 0.043056).  Saving model ...\n",
      "[ 3/15] [421/1290] train_loss: 0.04329 valid_loss: 0.04270\n",
      "Validation loss decreased (0.043056 --> 0.042699).  Saving model ...\n",
      "[ 3/15] [451/1290] train_loss: 0.04409 valid_loss: 0.04277\n",
      "EarlyStopping counter: 1 out of 7\n",
      "[ 3/15] [481/1290] train_loss: 0.04490 valid_loss: 0.04204\n",
      "Validation loss decreased (0.042699 --> 0.042040).  Saving model ...\n",
      "[ 3/15] [511/1290] train_loss: 0.04593 valid_loss: 0.04207\n",
      "EarlyStopping counter: 1 out of 7\n",
      "[ 3/15] [541/1290] train_loss: 0.04089 valid_loss: 0.04264\n",
      "EarlyStopping counter: 2 out of 7\n",
      "[ 3/15] [571/1290] train_loss: 0.04526 valid_loss: 0.04185\n",
      "Validation loss decreased (0.042040 --> 0.041854).  Saving model ...\n",
      "[ 3/15] [601/1290] train_loss: 0.03936 valid_loss: 0.04129\n",
      "Validation loss decreased (0.041854 --> 0.041287).  Saving model ...\n",
      "[ 3/15] [631/1290] train_loss: 0.04697 valid_loss: 0.04120\n",
      "Validation loss decreased (0.041287 --> 0.041195).  Saving model ...\n",
      "[ 3/15] [661/1290] train_loss: 0.04745 valid_loss: 0.04117\n",
      "Validation loss decreased (0.041195 --> 0.041165).  Saving model ...\n",
      "[ 3/15] [691/1290] train_loss: 0.03976 valid_loss: 0.04116\n",
      "Validation loss decreased (0.041165 --> 0.041156).  Saving model ...\n",
      "[ 3/15] [721/1290] train_loss: 0.04043 valid_loss: 0.04057\n",
      "Validation loss decreased (0.041156 --> 0.040572).  Saving model ...\n",
      "[ 3/15] [751/1290] train_loss: 0.04464 valid_loss: 0.04076\n",
      "EarlyStopping counter: 1 out of 7\n",
      "[ 3/15] [781/1290] train_loss: 0.04070 valid_loss: 0.04077\n",
      "EarlyStopping counter: 2 out of 7\n",
      "[ 3/15] [811/1290] train_loss: 0.04106 valid_loss: 0.03989\n",
      "Validation loss decreased (0.040572 --> 0.039890).  Saving model ...\n",
      "[ 3/15] [841/1290] train_loss: 0.04123 valid_loss: 0.04003\n",
      "EarlyStopping counter: 1 out of 7\n",
      "[ 3/15] [871/1290] train_loss: 0.04097 valid_loss: 0.04038\n",
      "EarlyStopping counter: 2 out of 7\n",
      "[ 3/15] [901/1290] train_loss: 0.04228 valid_loss: 0.04057\n",
      "EarlyStopping counter: 3 out of 7\n",
      "[ 3/15] [931/1290] train_loss: 0.04288 valid_loss: 0.04124\n",
      "EarlyStopping counter: 4 out of 7\n",
      "[ 3/15] [961/1290] train_loss: 0.04280 valid_loss: 0.03931\n",
      "Validation loss decreased (0.039890 --> 0.039311).  Saving model ...\n",
      "[ 3/15] [991/1290] train_loss: 0.04358 valid_loss: 0.03888\n",
      "Validation loss decreased (0.039311 --> 0.038878).  Saving model ...\n",
      "[ 3/15] [1021/1290] train_loss: 0.04024 valid_loss: 0.04095\n",
      "EarlyStopping counter: 1 out of 7\n",
      "[ 3/15] [1051/1290] train_loss: 0.03984 valid_loss: 0.03899\n",
      "EarlyStopping counter: 2 out of 7\n",
      "[ 3/15] [1081/1290] train_loss: 0.03892 valid_loss: 0.03880\n",
      "Validation loss decreased (0.038878 --> 0.038799).  Saving model ...\n",
      "[ 3/15] [1111/1290] train_loss: 0.03790 valid_loss: 0.03954\n",
      "EarlyStopping counter: 1 out of 7\n",
      "[ 3/15] [1141/1290] train_loss: 0.03725 valid_loss: 0.03832\n",
      "Validation loss decreased (0.038799 --> 0.038320).  Saving model ...\n",
      "[ 3/15] [1171/1290] train_loss: 0.03577 valid_loss: 0.03907\n",
      "EarlyStopping counter: 1 out of 7\n",
      "[ 3/15] [1201/1290] train_loss: 0.03482 valid_loss: 0.03839\n",
      "EarlyStopping counter: 2 out of 7\n",
      "[ 3/15] [1231/1290] train_loss: 0.03827 valid_loss: 0.03785\n",
      "Validation loss decreased (0.038320 --> 0.037848).  Saving model ...\n",
      "[ 3/15] [1261/1290] train_loss: 0.03995 valid_loss: 0.03819\n",
      "EarlyStopping counter: 1 out of 7\n",
      "[ 4/15] [ 1/1290] train_loss: 0.04000 valid_loss: 0.03929\n",
      "EarlyStopping counter: 2 out of 7\n",
      "[ 4/15] [31/1290] train_loss: 0.04516 valid_loss: 0.03922\n",
      "EarlyStopping counter: 3 out of 7\n",
      "[ 4/15] [61/1290] train_loss: 0.04138 valid_loss: 0.03718\n",
      "Validation loss decreased (0.037848 --> 0.037181).  Saving model ...\n",
      "[ 4/15] [91/1290] train_loss: 0.03842 valid_loss: 0.03884\n",
      "EarlyStopping counter: 1 out of 7\n",
      "[ 4/15] [121/1290] train_loss: 0.03839 valid_loss: 0.03737\n",
      "EarlyStopping counter: 2 out of 7\n",
      "[ 4/15] [151/1290] train_loss: 0.03878 valid_loss: 0.03712\n",
      "Validation loss decreased (0.037181 --> 0.037120).  Saving model ...\n",
      "[ 4/15] [181/1290] train_loss: 0.03727 valid_loss: 0.03770\n",
      "EarlyStopping counter: 1 out of 7\n"
     ]
    },
    {
     "name": "stdout",
     "output_type": "stream",
     "text": [
      "[ 4/15] [211/1290] train_loss: 0.03816 valid_loss: 0.03656\n",
      "Validation loss decreased (0.037120 --> 0.036556).  Saving model ...\n",
      "[ 4/15] [241/1290] train_loss: 0.03597 valid_loss: 0.03960\n",
      "EarlyStopping counter: 1 out of 7\n",
      "[ 4/15] [271/1290] train_loss: 0.04154 valid_loss: 0.03708\n",
      "EarlyStopping counter: 2 out of 7\n",
      "[ 4/15] [301/1290] train_loss: 0.03963 valid_loss: 0.03653\n",
      "Validation loss decreased (0.036556 --> 0.036530).  Saving model ...\n",
      "[ 4/15] [331/1290] train_loss: 0.04080 valid_loss: 0.03654\n",
      "EarlyStopping counter: 1 out of 7\n",
      "[ 4/15] [361/1290] train_loss: 0.03313 valid_loss: 0.03610\n",
      "Validation loss decreased (0.036530 --> 0.036104).  Saving model ...\n",
      "[ 4/15] [391/1290] train_loss: 0.03856 valid_loss: 0.03667\n",
      "EarlyStopping counter: 1 out of 7\n",
      "[ 4/15] [421/1290] train_loss: 0.03972 valid_loss: 0.03746\n",
      "EarlyStopping counter: 2 out of 7\n",
      "[ 4/15] [451/1290] train_loss: 0.04680 valid_loss: 0.03891\n",
      "EarlyStopping counter: 3 out of 7\n",
      "[ 4/15] [481/1290] train_loss: 0.03695 valid_loss: 0.03558\n",
      "Validation loss decreased (0.036104 --> 0.035584).  Saving model ...\n",
      "[ 4/15] [511/1290] train_loss: 0.03891 valid_loss: 0.03546\n",
      "Validation loss decreased (0.035584 --> 0.035461).  Saving model ...\n",
      "[ 4/15] [541/1290] train_loss: 0.03679 valid_loss: 0.03541\n",
      "Validation loss decreased (0.035461 --> 0.035412).  Saving model ...\n",
      "[ 4/15] [571/1290] train_loss: 0.03514 valid_loss: 0.03660\n",
      "EarlyStopping counter: 1 out of 7\n",
      "[ 4/15] [601/1290] train_loss: 0.03809 valid_loss: 0.03565\n",
      "EarlyStopping counter: 2 out of 7\n",
      "[ 4/15] [631/1290] train_loss: 0.03774 valid_loss: 0.03523\n",
      "Validation loss decreased (0.035412 --> 0.035228).  Saving model ...\n",
      "[ 4/15] [661/1290] train_loss: 0.03925 valid_loss: 0.03515\n",
      "Validation loss decreased (0.035228 --> 0.035149).  Saving model ...\n",
      "[ 4/15] [691/1290] train_loss: 0.03579 valid_loss: 0.03526\n",
      "EarlyStopping counter: 1 out of 7\n",
      "[ 4/15] [721/1290] train_loss: 0.03796 valid_loss: 0.03545\n",
      "EarlyStopping counter: 2 out of 7\n",
      "[ 4/15] [751/1290] train_loss: 0.03634 valid_loss: 0.03553\n",
      "EarlyStopping counter: 3 out of 7\n",
      "[ 4/15] [781/1290] train_loss: 0.03801 valid_loss: 0.03452\n",
      "Validation loss decreased (0.035149 --> 0.034521).  Saving model ...\n",
      "[ 4/15] [811/1290] train_loss: 0.03065 valid_loss: 0.03446\n",
      "Validation loss decreased (0.034521 --> 0.034456).  Saving model ...\n",
      "[ 4/15] [841/1290] train_loss: 0.03482 valid_loss: 0.03434\n",
      "Validation loss decreased (0.034456 --> 0.034342).  Saving model ...\n",
      "[ 4/15] [871/1290] train_loss: 0.03543 valid_loss: 0.03441\n",
      "EarlyStopping counter: 1 out of 7\n",
      "[ 4/15] [901/1290] train_loss: 0.03626 valid_loss: 0.03426\n",
      "Validation loss decreased (0.034342 --> 0.034263).  Saving model ...\n",
      "[ 4/15] [931/1290] train_loss: 0.03564 valid_loss: 0.03530\n",
      "EarlyStopping counter: 1 out of 7\n",
      "[ 4/15] [961/1290] train_loss: 0.03305 valid_loss: 0.03437\n",
      "EarlyStopping counter: 2 out of 7\n",
      "[ 4/15] [991/1290] train_loss: 0.03254 valid_loss: 0.03391\n",
      "Validation loss decreased (0.034263 --> 0.033913).  Saving model ...\n",
      "[ 4/15] [1021/1290] train_loss: 0.03542 valid_loss: 0.03415\n",
      "EarlyStopping counter: 1 out of 7\n",
      "[ 4/15] [1051/1290] train_loss: 0.02918 valid_loss: 0.03535\n",
      "EarlyStopping counter: 2 out of 7\n",
      "[ 4/15] [1081/1290] train_loss: 0.03173 valid_loss: 0.03376\n",
      "Validation loss decreased (0.033913 --> 0.033760).  Saving model ...\n",
      "[ 4/15] [1111/1290] train_loss: 0.03361 valid_loss: 0.03332\n",
      "Validation loss decreased (0.033760 --> 0.033321).  Saving model ...\n",
      "[ 4/15] [1141/1290] train_loss: 0.03745 valid_loss: 0.03343\n",
      "EarlyStopping counter: 1 out of 7\n",
      "[ 4/15] [1171/1290] train_loss: 0.03222 valid_loss: 0.03350\n",
      "EarlyStopping counter: 2 out of 7\n",
      "[ 4/15] [1201/1290] train_loss: 0.03168 valid_loss: 0.03322\n",
      "Validation loss decreased (0.033321 --> 0.033217).  Saving model ...\n",
      "[ 4/15] [1231/1290] train_loss: 0.03717 valid_loss: 0.03358\n",
      "EarlyStopping counter: 1 out of 7\n",
      "[ 4/15] [1261/1290] train_loss: 0.03432 valid_loss: 0.03326\n",
      "EarlyStopping counter: 2 out of 7\n",
      "[ 5/15] [ 1/1290] train_loss: 0.03441 valid_loss: 0.03341\n",
      "EarlyStopping counter: 3 out of 7\n",
      "[ 5/15] [31/1290] train_loss: 0.03116 valid_loss: 0.03274\n",
      "Validation loss decreased (0.033217 --> 0.032736).  Saving model ...\n",
      "[ 5/15] [61/1290] train_loss: 0.03265 valid_loss: 0.03319\n",
      "EarlyStopping counter: 1 out of 7\n",
      "[ 5/15] [91/1290] train_loss: 0.03592 valid_loss: 0.03270\n",
      "Validation loss decreased (0.032736 --> 0.032701).  Saving model ...\n",
      "[ 5/15] [121/1290] train_loss: 0.03860 valid_loss: 0.03246\n",
      "Validation loss decreased (0.032701 --> 0.032465).  Saving model ...\n",
      "[ 5/15] [151/1290] train_loss: 0.03128 valid_loss: 0.03421\n",
      "EarlyStopping counter: 1 out of 7\n",
      "[ 5/15] [181/1290] train_loss: 0.03469 valid_loss: 0.03311\n",
      "EarlyStopping counter: 2 out of 7\n",
      "[ 5/15] [211/1290] train_loss: 0.04193 valid_loss: 0.03291\n",
      "EarlyStopping counter: 3 out of 7\n",
      "[ 5/15] [241/1290] train_loss: 0.03449 valid_loss: 0.03215\n",
      "Validation loss decreased (0.032465 --> 0.032149).  Saving model ...\n",
      "[ 5/15] [271/1290] train_loss: 0.03158 valid_loss: 0.03222\n",
      "EarlyStopping counter: 1 out of 7\n",
      "[ 5/15] [301/1290] train_loss: 0.03095 valid_loss: 0.03352\n",
      "EarlyStopping counter: 2 out of 7\n",
      "[ 5/15] [331/1290] train_loss: 0.03159 valid_loss: 0.03242\n",
      "EarlyStopping counter: 3 out of 7\n",
      "[ 5/15] [361/1290] train_loss: 0.03204 valid_loss: 0.03338\n",
      "EarlyStopping counter: 4 out of 7\n",
      "[ 5/15] [391/1290] train_loss: 0.02861 valid_loss: 0.03265\n",
      "EarlyStopping counter: 5 out of 7\n",
      "[ 5/15] [421/1290] train_loss: 0.03253 valid_loss: 0.03271\n",
      "EarlyStopping counter: 6 out of 7\n",
      "[ 5/15] [451/1290] train_loss: 0.02413 valid_loss: 0.03154\n",
      "Validation loss decreased (0.032149 --> 0.031536).  Saving model ...\n",
      "[ 5/15] [481/1290] train_loss: 0.03362 valid_loss: 0.03223\n",
      "EarlyStopping counter: 1 out of 7\n",
      "[ 5/15] [511/1290] train_loss: 0.03757 valid_loss: 0.03141\n",
      "Validation loss decreased (0.031536 --> 0.031413).  Saving model ...\n",
      "[ 5/15] [541/1290] train_loss: 0.03768 valid_loss: 0.03151\n",
      "EarlyStopping counter: 1 out of 7\n",
      "[ 5/15] [571/1290] train_loss: 0.03263 valid_loss: 0.03484\n",
      "EarlyStopping counter: 2 out of 7\n",
      "[ 5/15] [601/1290] train_loss: 0.03522 valid_loss: 0.03144\n",
      "EarlyStopping counter: 3 out of 7\n",
      "[ 5/15] [631/1290] train_loss: 0.03304 valid_loss: 0.03103\n",
      "Validation loss decreased (0.031413 --> 0.031033).  Saving model ...\n",
      "[ 5/15] [661/1290] train_loss: 0.03723 valid_loss: 0.03244\n",
      "EarlyStopping counter: 1 out of 7\n",
      "[ 5/15] [691/1290] train_loss: 0.02758 valid_loss: 0.03109\n",
      "EarlyStopping counter: 2 out of 7\n",
      "[ 5/15] [721/1290] train_loss: 0.02994 valid_loss: 0.03097\n",
      "Validation loss decreased (0.031033 --> 0.030969).  Saving model ...\n",
      "[ 5/15] [751/1290] train_loss: 0.02903 valid_loss: 0.03173\n",
      "EarlyStopping counter: 1 out of 7\n",
      "[ 5/15] [781/1290] train_loss: 0.03095 valid_loss: 0.03758\n",
      "EarlyStopping counter: 2 out of 7\n",
      "[ 5/15] [811/1290] train_loss: 0.03901 valid_loss: 0.03178\n",
      "EarlyStopping counter: 3 out of 7\n",
      "[ 5/15] [841/1290] train_loss: 0.03233 valid_loss: 0.03033\n",
      "Validation loss decreased (0.030969 --> 0.030332).  Saving model ...\n",
      "[ 5/15] [871/1290] train_loss: 0.02974 valid_loss: 0.03135\n",
      "EarlyStopping counter: 1 out of 7\n",
      "[ 5/15] [901/1290] train_loss: 0.03588 valid_loss: 0.03695\n",
      "EarlyStopping counter: 2 out of 7\n",
      "[ 5/15] [931/1290] train_loss: 0.03158 valid_loss: 0.03130\n",
      "EarlyStopping counter: 3 out of 7\n",
      "[ 5/15] [961/1290] train_loss: 0.02875 valid_loss: 0.03096\n",
      "EarlyStopping counter: 4 out of 7\n",
      "[ 5/15] [991/1290] train_loss: 0.03064 valid_loss: 0.03011\n",
      "Validation loss decreased (0.030332 --> 0.030107).  Saving model ...\n",
      "[ 5/15] [1021/1290] train_loss: 0.03494 valid_loss: 0.03147\n",
      "EarlyStopping counter: 1 out of 7\n",
      "[ 5/15] [1051/1290] train_loss: 0.03385 valid_loss: 0.03102\n",
      "EarlyStopping counter: 2 out of 7\n",
      "[ 5/15] [1081/1290] train_loss: 0.03566 valid_loss: 0.03244\n",
      "EarlyStopping counter: 3 out of 7\n",
      "[ 5/15] [1111/1290] train_loss: 0.02996 valid_loss: 0.03030\n",
      "EarlyStopping counter: 4 out of 7\n",
      "[ 5/15] [1141/1290] train_loss: 0.03369 valid_loss: 0.02965\n",
      "Validation loss decreased (0.030107 --> 0.029653).  Saving model ...\n",
      "[ 5/15] [1171/1290] train_loss: 0.03343 valid_loss: 0.03055\n",
      "EarlyStopping counter: 1 out of 7\n",
      "[ 5/15] [1201/1290] train_loss: 0.03184 valid_loss: 0.02993\n",
      "EarlyStopping counter: 2 out of 7\n",
      "[ 5/15] [1231/1290] train_loss: 0.03307 valid_loss: 0.03008\n",
      "EarlyStopping counter: 3 out of 7\n"
     ]
    },
    {
     "name": "stdout",
     "output_type": "stream",
     "text": [
      "[ 5/15] [1261/1290] train_loss: 0.03021 valid_loss: 0.03005\n",
      "EarlyStopping counter: 4 out of 7\n",
      "[ 6/15] [ 1/1290] train_loss: 0.03088 valid_loss: 0.03158\n",
      "EarlyStopping counter: 5 out of 7\n",
      "[ 6/15] [31/1290] train_loss: 0.03425 valid_loss: 0.02932\n",
      "Validation loss decreased (0.029653 --> 0.029324).  Saving model ...\n",
      "[ 6/15] [61/1290] train_loss: 0.02995 valid_loss: 0.02993\n",
      "EarlyStopping counter: 1 out of 7\n",
      "[ 6/15] [91/1290] train_loss: 0.03376 valid_loss: 0.03044\n",
      "EarlyStopping counter: 2 out of 7\n",
      "[ 6/15] [121/1290] train_loss: 0.03328 valid_loss: 0.03093\n",
      "EarlyStopping counter: 3 out of 7\n",
      "[ 6/15] [151/1290] train_loss: 0.03391 valid_loss: 0.02922\n",
      "Validation loss decreased (0.029324 --> 0.029223).  Saving model ...\n",
      "[ 6/15] [181/1290] train_loss: 0.03362 valid_loss: 0.02905\n",
      "Validation loss decreased (0.029223 --> 0.029053).  Saving model ...\n",
      "[ 6/15] [211/1290] train_loss: 0.02992 valid_loss: 0.02904\n",
      "Validation loss decreased (0.029053 --> 0.029042).  Saving model ...\n",
      "[ 6/15] [241/1290] train_loss: 0.03245 valid_loss: 0.03032\n",
      "EarlyStopping counter: 1 out of 7\n",
      "[ 6/15] [271/1290] train_loss: 0.02869 valid_loss: 0.03063\n",
      "EarlyStopping counter: 2 out of 7\n",
      "[ 6/15] [301/1290] train_loss: 0.02954 valid_loss: 0.02930\n",
      "EarlyStopping counter: 3 out of 7\n",
      "[ 6/15] [331/1290] train_loss: 0.03291 valid_loss: 0.02900\n",
      "Validation loss decreased (0.029042 --> 0.028998).  Saving model ...\n",
      "[ 6/15] [361/1290] train_loss: 0.02443 valid_loss: 0.02933\n",
      "EarlyStopping counter: 1 out of 7\n",
      "[ 6/15] [391/1290] train_loss: 0.02952 valid_loss: 0.02860\n",
      "Validation loss decreased (0.028998 --> 0.028601).  Saving model ...\n",
      "[ 6/15] [421/1290] train_loss: 0.02755 valid_loss: 0.02845\n",
      "Validation loss decreased (0.028601 --> 0.028452).  Saving model ...\n",
      "[ 6/15] [451/1290] train_loss: 0.03183 valid_loss: 0.02819\n",
      "Validation loss decreased (0.028452 --> 0.028194).  Saving model ...\n",
      "[ 6/15] [481/1290] train_loss: 0.02840 valid_loss: 0.02876\n",
      "EarlyStopping counter: 1 out of 7\n",
      "[ 6/15] [511/1290] train_loss: 0.02783 valid_loss: 0.02847\n",
      "EarlyStopping counter: 2 out of 7\n",
      "[ 6/15] [541/1290] train_loss: 0.03756 valid_loss: 0.02798\n",
      "Validation loss decreased (0.028194 --> 0.027977).  Saving model ...\n",
      "[ 6/15] [571/1290] train_loss: 0.02742 valid_loss: 0.02826\n",
      "EarlyStopping counter: 1 out of 7\n",
      "[ 6/15] [601/1290] train_loss: 0.02706 valid_loss: 0.02795\n",
      "Validation loss decreased (0.027977 --> 0.027949).  Saving model ...\n",
      "[ 6/15] [631/1290] train_loss: 0.02613 valid_loss: 0.02807\n",
      "EarlyStopping counter: 1 out of 7\n",
      "[ 6/15] [661/1290] train_loss: 0.02574 valid_loss: 0.03385\n",
      "EarlyStopping counter: 2 out of 7\n",
      "[ 6/15] [691/1290] train_loss: 0.03013 valid_loss: 0.02813\n",
      "EarlyStopping counter: 3 out of 7\n",
      "[ 6/15] [721/1290] train_loss: 0.02729 valid_loss: 0.02862\n",
      "EarlyStopping counter: 4 out of 7\n",
      "[ 6/15] [751/1290] train_loss: 0.02782 valid_loss: 0.02803\n",
      "EarlyStopping counter: 5 out of 7\n",
      "[ 6/15] [781/1290] train_loss: 0.02849 valid_loss: 0.02820\n",
      "EarlyStopping counter: 6 out of 7\n",
      "[ 6/15] [811/1290] train_loss: 0.02840 valid_loss: 0.03006\n",
      "EarlyStopping counter: 7 out of 7\n",
      "Early stopping\n",
      "Training fold 1\n",
      "[ 1/15] [ 1/1290] train_loss: 0.23793 valid_loss: 0.23588\n",
      "Validation loss decreased (inf --> 0.235879).  Saving model ...\n",
      "[ 1/15] [31/1290] train_loss: 0.23507 valid_loss: 0.23178\n",
      "Validation loss decreased (0.235879 --> 0.231777).  Saving model ...\n",
      "[ 1/15] [61/1290] train_loss: 0.22777 valid_loss: 0.22658\n",
      "Validation loss decreased (0.231777 --> 0.226583).  Saving model ...\n",
      "[ 1/15] [91/1290] train_loss: 0.22813 valid_loss: 0.22305\n",
      "Validation loss decreased (0.226583 --> 0.223049).  Saving model ...\n",
      "[ 1/15] [121/1290] train_loss: 0.22237 valid_loss: 0.21999\n",
      "Validation loss decreased (0.223049 --> 0.219991).  Saving model ...\n",
      "[ 1/15] [151/1290] train_loss: 0.22100 valid_loss: 0.21703\n",
      "Validation loss decreased (0.219991 --> 0.217033).  Saving model ...\n",
      "[ 1/15] [181/1290] train_loss: 0.21949 valid_loss: 0.21499\n",
      "Validation loss decreased (0.217033 --> 0.214992).  Saving model ...\n",
      "[ 1/15] [211/1290] train_loss: 0.21699 valid_loss: 0.21349\n",
      "Validation loss decreased (0.214992 --> 0.213490).  Saving model ...\n",
      "[ 1/15] [241/1290] train_loss: 0.21460 valid_loss: 0.21150\n",
      "Validation loss decreased (0.213490 --> 0.211498).  Saving model ...\n",
      "[ 1/15] [271/1290] train_loss: 0.21471 valid_loss: 0.21035\n",
      "Validation loss decreased (0.211498 --> 0.210351).  Saving model ...\n",
      "[ 1/15] [301/1290] train_loss: 0.20778 valid_loss: 0.20910\n",
      "Validation loss decreased (0.210351 --> 0.209101).  Saving model ...\n",
      "[ 1/15] [331/1290] train_loss: 0.21869 valid_loss: 0.20824\n",
      "Validation loss decreased (0.209101 --> 0.208237).  Saving model ...\n",
      "[ 1/15] [361/1290] train_loss: 0.20969 valid_loss: 0.20735\n",
      "Validation loss decreased (0.208237 --> 0.207345).  Saving model ...\n",
      "[ 1/15] [391/1290] train_loss: 0.21012 valid_loss: 0.20625\n",
      "Validation loss decreased (0.207345 --> 0.206248).  Saving model ...\n",
      "[ 1/15] [421/1290] train_loss: 0.21058 valid_loss: 0.20579\n",
      "Validation loss decreased (0.206248 --> 0.205794).  Saving model ...\n",
      "[ 1/15] [451/1290] train_loss: 0.20923 valid_loss: 0.20533\n",
      "Validation loss decreased (0.205794 --> 0.205330).  Saving model ...\n",
      "[ 1/15] [481/1290] train_loss: 0.20968 valid_loss: 0.20449\n",
      "Validation loss decreased (0.205330 --> 0.204492).  Saving model ...\n",
      "[ 1/15] [511/1290] train_loss: 0.20831 valid_loss: 0.20364\n",
      "Validation loss decreased (0.204492 --> 0.203642).  Saving model ...\n",
      "[ 1/15] [541/1290] train_loss: 0.20260 valid_loss: 0.20320\n",
      "Validation loss decreased (0.203642 --> 0.203198).  Saving model ...\n",
      "[ 1/15] [571/1290] train_loss: 0.20816 valid_loss: 0.20271\n",
      "Validation loss decreased (0.203198 --> 0.202711).  Saving model ...\n",
      "[ 1/15] [601/1290] train_loss: 0.20991 valid_loss: 0.20246\n",
      "Validation loss decreased (0.202711 --> 0.202459).  Saving model ...\n",
      "[ 1/15] [631/1290] train_loss: 0.20006 valid_loss: 0.20151\n",
      "Validation loss decreased (0.202459 --> 0.201505).  Saving model ...\n",
      "[ 1/15] [661/1290] train_loss: 0.20200 valid_loss: 0.20076\n",
      "Validation loss decreased (0.201505 --> 0.200756).  Saving model ...\n",
      "[ 1/15] [691/1290] train_loss: 0.20706 valid_loss: 0.20024\n",
      "Validation loss decreased (0.200756 --> 0.200239).  Saving model ...\n",
      "[ 1/15] [721/1290] train_loss: 0.20273 valid_loss: 0.19980\n",
      "Validation loss decreased (0.200239 --> 0.199795).  Saving model ...\n",
      "[ 1/15] [751/1290] train_loss: 0.20795 valid_loss: 0.19953\n",
      "Validation loss decreased (0.199795 --> 0.199529).  Saving model ...\n",
      "[ 1/15] [781/1290] train_loss: 0.20430 valid_loss: 0.19864\n",
      "Validation loss decreased (0.199529 --> 0.198638).  Saving model ...\n",
      "[ 1/15] [811/1290] train_loss: 0.20162 valid_loss: 0.19741\n",
      "Validation loss decreased (0.198638 --> 0.197406).  Saving model ...\n",
      "[ 1/15] [841/1290] train_loss: 0.19666 valid_loss: 0.19665\n",
      "Validation loss decreased (0.197406 --> 0.196652).  Saving model ...\n",
      "[ 1/15] [871/1290] train_loss: 0.19475 valid_loss: 0.19590\n",
      "Validation loss decreased (0.196652 --> 0.195901).  Saving model ...\n",
      "[ 1/15] [901/1290] train_loss: 0.19871 valid_loss: 0.19478\n",
      "Validation loss decreased (0.195901 --> 0.194785).  Saving model ...\n",
      "[ 1/15] [931/1290] train_loss: 0.19960 valid_loss: 0.19402\n",
      "Validation loss decreased (0.194785 --> 0.194021).  Saving model ...\n",
      "[ 1/15] [961/1290] train_loss: 0.19470 valid_loss: 0.19290\n",
      "Validation loss decreased (0.194021 --> 0.192898).  Saving model ...\n",
      "[ 1/15] [991/1290] train_loss: 0.19751 valid_loss: 0.19141\n",
      "Validation loss decreased (0.192898 --> 0.191410).  Saving model ...\n",
      "[ 1/15] [1021/1290] train_loss: 0.19368 valid_loss: 0.19023\n",
      "Validation loss decreased (0.191410 --> 0.190225).  Saving model ...\n",
      "[ 1/15] [1051/1290] train_loss: 0.19038 valid_loss: 0.18860\n",
      "Validation loss decreased (0.190225 --> 0.188602).  Saving model ...\n",
      "[ 1/15] [1081/1290] train_loss: 0.18394 valid_loss: 0.18789\n",
      "Validation loss decreased (0.188602 --> 0.187889).  Saving model ...\n",
      "[ 1/15] [1111/1290] train_loss: 0.18674 valid_loss: 0.18600\n",
      "Validation loss decreased (0.187889 --> 0.186000).  Saving model ...\n",
      "[ 1/15] [1141/1290] train_loss: 0.18714 valid_loss: 0.18397\n",
      "Validation loss decreased (0.186000 --> 0.183970).  Saving model ...\n",
      "[ 1/15] [1171/1290] train_loss: 0.19014 valid_loss: 0.18243\n",
      "Validation loss decreased (0.183970 --> 0.182427).  Saving model ...\n",
      "[ 1/15] [1201/1290] train_loss: 0.18438 valid_loss: 0.18024\n",
      "Validation loss decreased (0.182427 --> 0.180244).  Saving model ...\n"
     ]
    },
    {
     "name": "stdout",
     "output_type": "stream",
     "text": [
      "[ 1/15] [1231/1290] train_loss: 0.17874 valid_loss: 0.17766\n",
      "Validation loss decreased (0.180244 --> 0.177658).  Saving model ...\n",
      "[ 1/15] [1261/1290] train_loss: 0.17846 valid_loss: 0.17504\n",
      "Validation loss decreased (0.177658 --> 0.175036).  Saving model ...\n",
      "[ 2/15] [ 1/1290] train_loss: 0.17620 valid_loss: 0.17176\n",
      "Validation loss decreased (0.175036 --> 0.171760).  Saving model ...\n",
      "[ 2/15] [31/1290] train_loss: 0.17287 valid_loss: 0.16856\n",
      "Validation loss decreased (0.171760 --> 0.168559).  Saving model ...\n",
      "[ 2/15] [61/1290] train_loss: 0.16829 valid_loss: 0.16401\n",
      "Validation loss decreased (0.168559 --> 0.164008).  Saving model ...\n",
      "[ 2/15] [91/1290] train_loss: 0.16394 valid_loss: 0.15940\n",
      "Validation loss decreased (0.164008 --> 0.159403).  Saving model ...\n",
      "[ 2/15] [121/1290] train_loss: 0.15267 valid_loss: 0.15398\n",
      "Validation loss decreased (0.159403 --> 0.153982).  Saving model ...\n",
      "[ 2/15] [151/1290] train_loss: 0.15572 valid_loss: 0.14808\n",
      "Validation loss decreased (0.153982 --> 0.148078).  Saving model ...\n",
      "[ 2/15] [181/1290] train_loss: 0.14879 valid_loss: 0.14126\n",
      "Validation loss decreased (0.148078 --> 0.141262).  Saving model ...\n",
      "[ 2/15] [211/1290] train_loss: 0.14174 valid_loss: 0.13462\n",
      "Validation loss decreased (0.141262 --> 0.134621).  Saving model ...\n",
      "[ 2/15] [241/1290] train_loss: 0.13011 valid_loss: 0.12763\n",
      "Validation loss decreased (0.134621 --> 0.127635).  Saving model ...\n",
      "[ 2/15] [271/1290] train_loss: 0.12516 valid_loss: 0.12133\n",
      "Validation loss decreased (0.127635 --> 0.121327).  Saving model ...\n",
      "[ 2/15] [301/1290] train_loss: 0.12093 valid_loss: 0.11447\n",
      "Validation loss decreased (0.121327 --> 0.114466).  Saving model ...\n",
      "[ 2/15] [331/1290] train_loss: 0.10982 valid_loss: 0.10899\n",
      "Validation loss decreased (0.114466 --> 0.108987).  Saving model ...\n",
      "[ 2/15] [361/1290] train_loss: 0.10353 valid_loss: 0.10392\n",
      "Validation loss decreased (0.108987 --> 0.103923).  Saving model ...\n",
      "[ 2/15] [391/1290] train_loss: 0.10257 valid_loss: 0.09944\n",
      "Validation loss decreased (0.103923 --> 0.099439).  Saving model ...\n",
      "[ 2/15] [421/1290] train_loss: 0.09655 valid_loss: 0.09589\n",
      "Validation loss decreased (0.099439 --> 0.095885).  Saving model ...\n",
      "[ 2/15] [451/1290] train_loss: 0.09095 valid_loss: 0.09223\n",
      "Validation loss decreased (0.095885 --> 0.092232).  Saving model ...\n",
      "[ 2/15] [481/1290] train_loss: 0.09147 valid_loss: 0.08878\n",
      "Validation loss decreased (0.092232 --> 0.088781).  Saving model ...\n",
      "[ 2/15] [511/1290] train_loss: 0.08860 valid_loss: 0.08666\n",
      "Validation loss decreased (0.088781 --> 0.086662).  Saving model ...\n",
      "[ 2/15] [541/1290] train_loss: 0.08952 valid_loss: 0.08377\n",
      "Validation loss decreased (0.086662 --> 0.083773).  Saving model ...\n",
      "[ 2/15] [571/1290] train_loss: 0.08603 valid_loss: 0.08136\n",
      "Validation loss decreased (0.083773 --> 0.081363).  Saving model ...\n",
      "[ 2/15] [601/1290] train_loss: 0.08350 valid_loss: 0.08050\n",
      "Validation loss decreased (0.081363 --> 0.080504).  Saving model ...\n",
      "[ 2/15] [631/1290] train_loss: 0.08643 valid_loss: 0.07792\n",
      "Validation loss decreased (0.080504 --> 0.077917).  Saving model ...\n",
      "[ 2/15] [661/1290] train_loss: 0.07291 valid_loss: 0.07615\n",
      "Validation loss decreased (0.077917 --> 0.076152).  Saving model ...\n",
      "[ 2/15] [691/1290] train_loss: 0.07830 valid_loss: 0.07493\n",
      "Validation loss decreased (0.076152 --> 0.074925).  Saving model ...\n",
      "[ 2/15] [721/1290] train_loss: 0.07314 valid_loss: 0.07356\n",
      "Validation loss decreased (0.074925 --> 0.073560).  Saving model ...\n",
      "[ 2/15] [751/1290] train_loss: 0.07617 valid_loss: 0.07262\n",
      "Validation loss decreased (0.073560 --> 0.072622).  Saving model ...\n",
      "[ 2/15] [781/1290] train_loss: 0.07555 valid_loss: 0.07150\n",
      "Validation loss decreased (0.072622 --> 0.071503).  Saving model ...\n",
      "[ 2/15] [811/1290] train_loss: 0.07378 valid_loss: 0.07004\n",
      "Validation loss decreased (0.071503 --> 0.070041).  Saving model ...\n",
      "[ 2/15] [841/1290] train_loss: 0.06622 valid_loss: 0.06877\n",
      "Validation loss decreased (0.070041 --> 0.068767).  Saving model ...\n",
      "[ 2/15] [871/1290] train_loss: 0.06948 valid_loss: 0.06882\n",
      "EarlyStopping counter: 1 out of 7\n",
      "[ 2/15] [901/1290] train_loss: 0.06759 valid_loss: 0.06730\n",
      "Validation loss decreased (0.068767 --> 0.067298).  Saving model ...\n",
      "[ 2/15] [931/1290] train_loss: 0.06530 valid_loss: 0.06591\n",
      "Validation loss decreased (0.067298 --> 0.065908).  Saving model ...\n",
      "[ 2/15] [961/1290] train_loss: 0.06238 valid_loss: 0.06570\n",
      "Validation loss decreased (0.065908 --> 0.065698).  Saving model ...\n",
      "[ 2/15] [991/1290] train_loss: 0.06405 valid_loss: 0.06448\n",
      "Validation loss decreased (0.065698 --> 0.064477).  Saving model ...\n",
      "[ 2/15] [1021/1290] train_loss: 0.06158 valid_loss: 0.06415\n",
      "Validation loss decreased (0.064477 --> 0.064147).  Saving model ...\n",
      "[ 2/15] [1051/1290] train_loss: 0.06358 valid_loss: 0.06338\n",
      "Validation loss decreased (0.064147 --> 0.063383).  Saving model ...\n",
      "[ 2/15] [1081/1290] train_loss: 0.06557 valid_loss: 0.06241\n",
      "Validation loss decreased (0.063383 --> 0.062407).  Saving model ...\n",
      "[ 2/15] [1111/1290] train_loss: 0.06094 valid_loss: 0.06152\n",
      "Validation loss decreased (0.062407 --> 0.061518).  Saving model ...\n",
      "[ 2/15] [1141/1290] train_loss: 0.05680 valid_loss: 0.06101\n",
      "Validation loss decreased (0.061518 --> 0.061007).  Saving model ...\n",
      "[ 2/15] [1171/1290] train_loss: 0.05935 valid_loss: 0.06088\n",
      "Validation loss decreased (0.061007 --> 0.060879).  Saving model ...\n",
      "[ 2/15] [1201/1290] train_loss: 0.06282 valid_loss: 0.06012\n",
      "Validation loss decreased (0.060879 --> 0.060125).  Saving model ...\n",
      "[ 2/15] [1231/1290] train_loss: 0.05707 valid_loss: 0.05900\n",
      "Validation loss decreased (0.060125 --> 0.059000).  Saving model ...\n",
      "[ 2/15] [1261/1290] train_loss: 0.06077 valid_loss: 0.05886\n",
      "Validation loss decreased (0.059000 --> 0.058857).  Saving model ...\n",
      "[ 3/15] [ 1/1290] train_loss: 0.05739 valid_loss: 0.05833\n",
      "Validation loss decreased (0.058857 --> 0.058328).  Saving model ...\n",
      "[ 3/15] [31/1290] train_loss: 0.06540 valid_loss: 0.05799\n",
      "Validation loss decreased (0.058328 --> 0.057995).  Saving model ...\n",
      "[ 3/15] [61/1290] train_loss: 0.05724 valid_loss: 0.05691\n",
      "Validation loss decreased (0.057995 --> 0.056912).  Saving model ...\n",
      "[ 3/15] [91/1290] train_loss: 0.06044 valid_loss: 0.05667\n",
      "Validation loss decreased (0.056912 --> 0.056671).  Saving model ...\n",
      "[ 3/15] [121/1290] train_loss: 0.05973 valid_loss: 0.05594\n",
      "Validation loss decreased (0.056671 --> 0.055943).  Saving model ...\n",
      "[ 3/15] [151/1290] train_loss: 0.05641 valid_loss: 0.05581\n",
      "Validation loss decreased (0.055943 --> 0.055805).  Saving model ...\n",
      "[ 3/15] [181/1290] train_loss: 0.04680 valid_loss: 0.05530\n",
      "Validation loss decreased (0.055805 --> 0.055295).  Saving model ...\n",
      "[ 3/15] [211/1290] train_loss: 0.05362 valid_loss: 0.05554\n",
      "EarlyStopping counter: 1 out of 7\n",
      "[ 3/15] [241/1290] train_loss: 0.05977 valid_loss: 0.05428\n",
      "Validation loss decreased (0.055295 --> 0.054276).  Saving model ...\n",
      "[ 3/15] [271/1290] train_loss: 0.05355 valid_loss: 0.05407\n",
      "Validation loss decreased (0.054276 --> 0.054066).  Saving model ...\n",
      "[ 3/15] [301/1290] train_loss: 0.05431 valid_loss: 0.05383\n",
      "Validation loss decreased (0.054066 --> 0.053833).  Saving model ...\n",
      "[ 3/15] [331/1290] train_loss: 0.05985 valid_loss: 0.05333\n",
      "Validation loss decreased (0.053833 --> 0.053330).  Saving model ...\n",
      "[ 3/15] [361/1290] train_loss: 0.04812 valid_loss: 0.05277\n",
      "Validation loss decreased (0.053330 --> 0.052769).  Saving model ...\n",
      "[ 3/15] [391/1290] train_loss: 0.05082 valid_loss: 0.05428\n",
      "EarlyStopping counter: 1 out of 7\n",
      "[ 3/15] [421/1290] train_loss: 0.05204 valid_loss: 0.05305\n",
      "EarlyStopping counter: 2 out of 7\n",
      "[ 3/15] [451/1290] train_loss: 0.05251 valid_loss: 0.05306\n",
      "EarlyStopping counter: 3 out of 7\n",
      "[ 3/15] [481/1290] train_loss: 0.05788 valid_loss: 0.05189\n",
      "Validation loss decreased (0.052769 --> 0.051894).  Saving model ...\n",
      "[ 3/15] [511/1290] train_loss: 0.05713 valid_loss: 0.05129\n",
      "Validation loss decreased (0.051894 --> 0.051287).  Saving model ...\n",
      "[ 3/15] [541/1290] train_loss: 0.04880 valid_loss: 0.05089\n",
      "Validation loss decreased (0.051287 --> 0.050887).  Saving model ...\n",
      "[ 3/15] [571/1290] train_loss: 0.04968 valid_loss: 0.05047\n",
      "Validation loss decreased (0.050887 --> 0.050466).  Saving model ...\n",
      "[ 3/15] [601/1290] train_loss: 0.04786 valid_loss: 0.05054\n",
      "EarlyStopping counter: 1 out of 7\n"
     ]
    },
    {
     "name": "stdout",
     "output_type": "stream",
     "text": [
      "[ 3/15] [631/1290] train_loss: 0.05173 valid_loss: 0.05185\n",
      "EarlyStopping counter: 2 out of 7\n",
      "[ 3/15] [661/1290] train_loss: 0.04899 valid_loss: 0.04979\n",
      "Validation loss decreased (0.050466 --> 0.049793).  Saving model ...\n",
      "[ 3/15] [691/1290] train_loss: 0.05127 valid_loss: 0.05076\n",
      "EarlyStopping counter: 1 out of 7\n",
      "[ 3/15] [721/1290] train_loss: 0.04879 valid_loss: 0.05018\n",
      "EarlyStopping counter: 2 out of 7\n",
      "[ 3/15] [751/1290] train_loss: 0.04740 valid_loss: 0.04904\n",
      "Validation loss decreased (0.049793 --> 0.049043).  Saving model ...\n",
      "[ 3/15] [781/1290] train_loss: 0.05443 valid_loss: 0.04882\n",
      "Validation loss decreased (0.049043 --> 0.048820).  Saving model ...\n",
      "[ 3/15] [811/1290] train_loss: 0.04409 valid_loss: 0.04864\n",
      "Validation loss decreased (0.048820 --> 0.048635).  Saving model ...\n",
      "[ 3/15] [841/1290] train_loss: 0.04475 valid_loss: 0.05128\n",
      "EarlyStopping counter: 1 out of 7\n",
      "[ 3/15] [871/1290] train_loss: 0.04834 valid_loss: 0.04817\n",
      "Validation loss decreased (0.048635 --> 0.048169).  Saving model ...\n",
      "[ 3/15] [901/1290] train_loss: 0.04398 valid_loss: 0.04771\n",
      "Validation loss decreased (0.048169 --> 0.047709).  Saving model ...\n",
      "[ 3/15] [931/1290] train_loss: 0.04201 valid_loss: 0.04775\n",
      "EarlyStopping counter: 1 out of 7\n",
      "[ 3/15] [961/1290] train_loss: 0.05080 valid_loss: 0.04750\n",
      "Validation loss decreased (0.047709 --> 0.047501).  Saving model ...\n",
      "[ 3/15] [991/1290] train_loss: 0.04643 valid_loss: 0.04785\n",
      "EarlyStopping counter: 1 out of 7\n",
      "[ 3/15] [1021/1290] train_loss: 0.04985 valid_loss: 0.04775\n",
      "EarlyStopping counter: 2 out of 7\n",
      "[ 3/15] [1051/1290] train_loss: 0.05139 valid_loss: 0.04795\n",
      "EarlyStopping counter: 3 out of 7\n",
      "[ 3/15] [1081/1290] train_loss: 0.04813 valid_loss: 0.04796\n",
      "EarlyStopping counter: 4 out of 7\n",
      "[ 3/15] [1111/1290] train_loss: 0.04613 valid_loss: 0.04689\n",
      "Validation loss decreased (0.047501 --> 0.046891).  Saving model ...\n",
      "[ 3/15] [1141/1290] train_loss: 0.04691 valid_loss: 0.04662\n",
      "Validation loss decreased (0.046891 --> 0.046622).  Saving model ...\n",
      "[ 3/15] [1171/1290] train_loss: 0.04218 valid_loss: 0.04612\n",
      "Validation loss decreased (0.046622 --> 0.046116).  Saving model ...\n",
      "[ 3/15] [1201/1290] train_loss: 0.04315 valid_loss: 0.04584\n",
      "Validation loss decreased (0.046116 --> 0.045840).  Saving model ...\n",
      "[ 3/15] [1231/1290] train_loss: 0.04583 valid_loss: 0.04548\n",
      "Validation loss decreased (0.045840 --> 0.045484).  Saving model ...\n",
      "[ 3/15] [1261/1290] train_loss: 0.04631 valid_loss: 0.04524\n",
      "Validation loss decreased (0.045484 --> 0.045240).  Saving model ...\n",
      "[ 4/15] [ 1/1290] train_loss: 0.04060 valid_loss: 0.04508\n",
      "Validation loss decreased (0.045240 --> 0.045080).  Saving model ...\n",
      "[ 4/15] [31/1290] train_loss: 0.04429 valid_loss: 0.04537\n",
      "EarlyStopping counter: 1 out of 7\n",
      "[ 4/15] [61/1290] train_loss: 0.04422 valid_loss: 0.04511\n",
      "EarlyStopping counter: 2 out of 7\n",
      "[ 4/15] [91/1290] train_loss: 0.04603 valid_loss: 0.04501\n",
      "Validation loss decreased (0.045080 --> 0.045011).  Saving model ...\n",
      "[ 4/15] [121/1290] train_loss: 0.03991 valid_loss: 0.04536\n",
      "EarlyStopping counter: 1 out of 7\n",
      "[ 4/15] [151/1290] train_loss: 0.05035 valid_loss: 0.04514\n",
      "EarlyStopping counter: 2 out of 7\n",
      "[ 4/15] [181/1290] train_loss: 0.04013 valid_loss: 0.04461\n",
      "Validation loss decreased (0.045011 --> 0.044607).  Saving model ...\n",
      "[ 4/15] [211/1290] train_loss: 0.04692 valid_loss: 0.04479\n",
      "EarlyStopping counter: 1 out of 7\n",
      "[ 4/15] [241/1290] train_loss: 0.04348 valid_loss: 0.04427\n",
      "Validation loss decreased (0.044607 --> 0.044265).  Saving model ...\n",
      "[ 4/15] [271/1290] train_loss: 0.03763 valid_loss: 0.04474\n",
      "EarlyStopping counter: 1 out of 7\n",
      "[ 4/15] [301/1290] train_loss: 0.04499 valid_loss: 0.04415\n",
      "Validation loss decreased (0.044265 --> 0.044154).  Saving model ...\n",
      "[ 4/15] [331/1290] train_loss: 0.04660 valid_loss: 0.04412\n",
      "Validation loss decreased (0.044154 --> 0.044116).  Saving model ...\n",
      "[ 4/15] [361/1290] train_loss: 0.04229 valid_loss: 0.04334\n",
      "Validation loss decreased (0.044116 --> 0.043339).  Saving model ...\n",
      "[ 4/15] [391/1290] train_loss: 0.04401 valid_loss: 0.04466\n",
      "EarlyStopping counter: 1 out of 7\n",
      "[ 4/15] [421/1290] train_loss: 0.04516 valid_loss: 0.04598\n",
      "EarlyStopping counter: 2 out of 7\n",
      "[ 4/15] [451/1290] train_loss: 0.04480 valid_loss: 0.04372\n",
      "EarlyStopping counter: 3 out of 7\n",
      "[ 4/15] [481/1290] train_loss: 0.04497 valid_loss: 0.04288\n",
      "Validation loss decreased (0.043339 --> 0.042880).  Saving model ...\n",
      "[ 4/15] [511/1290] train_loss: 0.04118 valid_loss: 0.04283\n",
      "Validation loss decreased (0.042880 --> 0.042826).  Saving model ...\n",
      "[ 4/15] [541/1290] train_loss: 0.03687 valid_loss: 0.04316\n",
      "EarlyStopping counter: 1 out of 7\n",
      "[ 4/15] [571/1290] train_loss: 0.04188 valid_loss: 0.04235\n",
      "Validation loss decreased (0.042826 --> 0.042355).  Saving model ...\n",
      "[ 4/15] [601/1290] train_loss: 0.04460 valid_loss: 0.04254\n",
      "EarlyStopping counter: 1 out of 7\n",
      "[ 4/15] [631/1290] train_loss: 0.04236 valid_loss: 0.04322\n",
      "EarlyStopping counter: 2 out of 7\n",
      "[ 4/15] [661/1290] train_loss: 0.03902 valid_loss: 0.04212\n",
      "Validation loss decreased (0.042355 --> 0.042122).  Saving model ...\n",
      "[ 4/15] [691/1290] train_loss: 0.04539 valid_loss: 0.04416\n",
      "EarlyStopping counter: 1 out of 7\n",
      "[ 4/15] [721/1290] train_loss: 0.04159 valid_loss: 0.04200\n",
      "Validation loss decreased (0.042122 --> 0.041996).  Saving model ...\n",
      "[ 4/15] [751/1290] train_loss: 0.04092 valid_loss: 0.04222\n",
      "EarlyStopping counter: 1 out of 7\n",
      "[ 4/15] [781/1290] train_loss: 0.04247 valid_loss: 0.04186\n",
      "Validation loss decreased (0.041996 --> 0.041863).  Saving model ...\n",
      "[ 4/15] [811/1290] train_loss: 0.03946 valid_loss: 0.04209\n",
      "EarlyStopping counter: 1 out of 7\n",
      "[ 4/15] [841/1290] train_loss: 0.03794 valid_loss: 0.04198\n",
      "EarlyStopping counter: 2 out of 7\n",
      "[ 4/15] [871/1290] train_loss: 0.04190 valid_loss: 0.04123\n",
      "Validation loss decreased (0.041863 --> 0.041228).  Saving model ...\n",
      "[ 4/15] [901/1290] train_loss: 0.04151 valid_loss: 0.04197\n",
      "EarlyStopping counter: 1 out of 7\n",
      "[ 4/15] [931/1290] train_loss: 0.04004 valid_loss: 0.04149\n",
      "EarlyStopping counter: 2 out of 7\n",
      "[ 4/15] [961/1290] train_loss: 0.04060 valid_loss: 0.04081\n",
      "Validation loss decreased (0.041228 --> 0.040815).  Saving model ...\n",
      "[ 4/15] [991/1290] train_loss: 0.04341 valid_loss: 0.04053\n",
      "Validation loss decreased (0.040815 --> 0.040529).  Saving model ...\n",
      "[ 4/15] [1021/1290] train_loss: 0.03760 valid_loss: 0.04064\n",
      "EarlyStopping counter: 1 out of 7\n",
      "[ 4/15] [1051/1290] train_loss: 0.03725 valid_loss: 0.04059\n",
      "EarlyStopping counter: 2 out of 7\n",
      "[ 4/15] [1081/1290] train_loss: 0.04069 valid_loss: 0.04028\n",
      "Validation loss decreased (0.040529 --> 0.040277).  Saving model ...\n",
      "[ 4/15] [1111/1290] train_loss: 0.04002 valid_loss: 0.04012\n",
      "Validation loss decreased (0.040277 --> 0.040120).  Saving model ...\n",
      "[ 4/15] [1141/1290] train_loss: 0.04349 valid_loss: 0.03993\n",
      "Validation loss decreased (0.040120 --> 0.039934).  Saving model ...\n",
      "[ 4/15] [1171/1290] train_loss: 0.03697 valid_loss: 0.04255\n",
      "EarlyStopping counter: 1 out of 7\n",
      "[ 4/15] [1201/1290] train_loss: 0.04385 valid_loss: 0.04058\n",
      "EarlyStopping counter: 2 out of 7\n",
      "[ 4/15] [1231/1290] train_loss: 0.04078 valid_loss: 0.03972\n",
      "Validation loss decreased (0.039934 --> 0.039721).  Saving model ...\n",
      "[ 4/15] [1261/1290] train_loss: 0.04022 valid_loss: 0.03981\n",
      "EarlyStopping counter: 1 out of 7\n",
      "[ 5/15] [ 1/1290] train_loss: 0.03946 valid_loss: 0.03969\n",
      "Validation loss decreased (0.039721 --> 0.039687).  Saving model ...\n",
      "[ 5/15] [31/1290] train_loss: 0.03797 valid_loss: 0.03952\n",
      "Validation loss decreased (0.039687 --> 0.039515).  Saving model ...\n",
      "[ 5/15] [61/1290] train_loss: 0.04286 valid_loss: 0.03975\n",
      "EarlyStopping counter: 1 out of 7\n",
      "[ 5/15] [91/1290] train_loss: 0.04633 valid_loss: 0.03957\n",
      "EarlyStopping counter: 2 out of 7\n",
      "[ 5/15] [121/1290] train_loss: 0.03747 valid_loss: 0.03909\n",
      "Validation loss decreased (0.039515 --> 0.039087).  Saving model ...\n",
      "[ 5/15] [151/1290] train_loss: 0.03704 valid_loss: 0.03985\n",
      "EarlyStopping counter: 1 out of 7\n",
      "[ 5/15] [181/1290] train_loss: 0.03543 valid_loss: 0.03914\n",
      "EarlyStopping counter: 2 out of 7\n",
      "[ 5/15] [211/1290] train_loss: 0.04084 valid_loss: 0.03897\n",
      "Validation loss decreased (0.039087 --> 0.038966).  Saving model ...\n",
      "[ 5/15] [241/1290] train_loss: 0.03738 valid_loss: 0.04090\n",
      "EarlyStopping counter: 1 out of 7\n",
      "[ 5/15] [271/1290] train_loss: 0.04134 valid_loss: 0.03905\n",
      "EarlyStopping counter: 2 out of 7\n"
     ]
    },
    {
     "name": "stdout",
     "output_type": "stream",
     "text": [
      "[ 5/15] [301/1290] train_loss: 0.03824 valid_loss: 0.03875\n",
      "Validation loss decreased (0.038966 --> 0.038745).  Saving model ...\n",
      "[ 5/15] [331/1290] train_loss: 0.03714 valid_loss: 0.03999\n",
      "EarlyStopping counter: 1 out of 7\n",
      "[ 5/15] [361/1290] train_loss: 0.03607 valid_loss: 0.03913\n",
      "EarlyStopping counter: 2 out of 7\n",
      "[ 5/15] [391/1290] train_loss: 0.03647 valid_loss: 0.03882\n",
      "EarlyStopping counter: 3 out of 7\n",
      "[ 5/15] [421/1290] train_loss: 0.03809 valid_loss: 0.03848\n",
      "Validation loss decreased (0.038745 --> 0.038484).  Saving model ...\n",
      "[ 5/15] [451/1290] train_loss: 0.04273 valid_loss: 0.03774\n",
      "Validation loss decreased (0.038484 --> 0.037737).  Saving model ...\n",
      "[ 5/15] [481/1290] train_loss: 0.03810 valid_loss: 0.03774\n",
      "EarlyStopping counter: 1 out of 7\n",
      "[ 5/15] [511/1290] train_loss: 0.03477 valid_loss: 0.03743\n",
      "Validation loss decreased (0.037737 --> 0.037430).  Saving model ...\n",
      "[ 5/15] [541/1290] train_loss: 0.03940 valid_loss: 0.03764\n",
      "EarlyStopping counter: 1 out of 7\n",
      "[ 5/15] [571/1290] train_loss: 0.03803 valid_loss: 0.03735\n",
      "Validation loss decreased (0.037430 --> 0.037347).  Saving model ...\n",
      "[ 5/15] [601/1290] train_loss: 0.03733 valid_loss: 0.03945\n",
      "EarlyStopping counter: 1 out of 7\n",
      "[ 5/15] [631/1290] train_loss: 0.03296 valid_loss: 0.03702\n",
      "Validation loss decreased (0.037347 --> 0.037023).  Saving model ...\n",
      "[ 5/15] [661/1290] train_loss: 0.03424 valid_loss: 0.03690\n",
      "Validation loss decreased (0.037023 --> 0.036902).  Saving model ...\n",
      "[ 5/15] [691/1290] train_loss: 0.03488 valid_loss: 0.03771\n",
      "EarlyStopping counter: 1 out of 7\n",
      "[ 5/15] [721/1290] train_loss: 0.02933 valid_loss: 0.03727\n",
      "EarlyStopping counter: 2 out of 7\n",
      "[ 5/15] [751/1290] train_loss: 0.03235 valid_loss: 0.03755\n",
      "EarlyStopping counter: 3 out of 7\n",
      "[ 5/15] [781/1290] train_loss: 0.03031 valid_loss: 0.03882\n",
      "EarlyStopping counter: 4 out of 7\n",
      "[ 5/15] [811/1290] train_loss: 0.04231 valid_loss: 0.03997\n",
      "EarlyStopping counter: 5 out of 7\n",
      "[ 5/15] [841/1290] train_loss: 0.03730 valid_loss: 0.03793\n",
      "EarlyStopping counter: 6 out of 7\n",
      "[ 5/15] [871/1290] train_loss: 0.03395 valid_loss: 0.03612\n",
      "Validation loss decreased (0.036902 --> 0.036118).  Saving model ...\n",
      "[ 5/15] [901/1290] train_loss: 0.03816 valid_loss: 0.03603\n",
      "Validation loss decreased (0.036118 --> 0.036033).  Saving model ...\n",
      "[ 5/15] [931/1290] train_loss: 0.03619 valid_loss: 0.03890\n",
      "EarlyStopping counter: 1 out of 7\n",
      "[ 5/15] [961/1290] train_loss: 0.03338 valid_loss: 0.03778\n",
      "EarlyStopping counter: 2 out of 7\n",
      "[ 5/15] [991/1290] train_loss: 0.03564 valid_loss: 0.03828\n",
      "EarlyStopping counter: 3 out of 7\n",
      "[ 5/15] [1021/1290] train_loss: 0.03736 valid_loss: 0.03580\n",
      "Validation loss decreased (0.036033 --> 0.035803).  Saving model ...\n",
      "[ 5/15] [1051/1290] train_loss: 0.03374 valid_loss: 0.03567\n",
      "Validation loss decreased (0.035803 --> 0.035669).  Saving model ...\n",
      "[ 5/15] [1081/1290] train_loss: 0.03935 valid_loss: 0.03797\n",
      "EarlyStopping counter: 1 out of 7\n",
      "[ 5/15] [1111/1290] train_loss: 0.03596 valid_loss: 0.03566\n",
      "Validation loss decreased (0.035669 --> 0.035656).  Saving model ...\n",
      "[ 5/15] [1141/1290] train_loss: 0.03491 valid_loss: 0.03581\n",
      "EarlyStopping counter: 1 out of 7\n",
      "[ 5/15] [1171/1290] train_loss: 0.03427 valid_loss: 0.03537\n",
      "Validation loss decreased (0.035656 --> 0.035369).  Saving model ...\n",
      "[ 5/15] [1201/1290] train_loss: 0.03478 valid_loss: 0.03658\n",
      "EarlyStopping counter: 1 out of 7\n",
      "[ 5/15] [1231/1290] train_loss: 0.03651 valid_loss: 0.03531\n",
      "Validation loss decreased (0.035369 --> 0.035307).  Saving model ...\n",
      "[ 5/15] [1261/1290] train_loss: 0.03130 valid_loss: 0.03484\n",
      "Validation loss decreased (0.035307 --> 0.034835).  Saving model ...\n",
      "[ 6/15] [ 1/1290] train_loss: 0.03805 valid_loss: 0.03530\n",
      "EarlyStopping counter: 1 out of 7\n",
      "[ 6/15] [31/1290] train_loss: 0.03407 valid_loss: 0.03515\n",
      "EarlyStopping counter: 2 out of 7\n",
      "[ 6/15] [61/1290] train_loss: 0.03719 valid_loss: 0.03591\n",
      "EarlyStopping counter: 3 out of 7\n",
      "[ 6/15] [91/1290] train_loss: 0.03259 valid_loss: 0.03486\n",
      "EarlyStopping counter: 4 out of 7\n",
      "[ 6/15] [121/1290] train_loss: 0.03042 valid_loss: 0.03522\n",
      "EarlyStopping counter: 5 out of 7\n",
      "[ 6/15] [151/1290] train_loss: 0.03984 valid_loss: 0.03683\n",
      "EarlyStopping counter: 6 out of 7\n",
      "[ 6/15] [181/1290] train_loss: 0.03564 valid_loss: 0.03423\n",
      "Validation loss decreased (0.034835 --> 0.034235).  Saving model ...\n",
      "[ 6/15] [211/1290] train_loss: 0.03326 valid_loss: 0.03445\n",
      "EarlyStopping counter: 1 out of 7\n",
      "[ 6/15] [241/1290] train_loss: 0.03566 valid_loss: 0.03439\n",
      "EarlyStopping counter: 2 out of 7\n",
      "[ 6/15] [271/1290] train_loss: 0.03072 valid_loss: 0.03524\n",
      "EarlyStopping counter: 3 out of 7\n",
      "[ 6/15] [301/1290] train_loss: 0.03041 valid_loss: 0.03412\n",
      "Validation loss decreased (0.034235 --> 0.034124).  Saving model ...\n",
      "[ 6/15] [331/1290] train_loss: 0.02945 valid_loss: 0.03396\n",
      "Validation loss decreased (0.034124 --> 0.033964).  Saving model ...\n",
      "[ 6/15] [361/1290] train_loss: 0.03390 valid_loss: 0.03439\n",
      "EarlyStopping counter: 1 out of 7\n",
      "[ 6/15] [391/1290] train_loss: 0.03406 valid_loss: 0.03858\n",
      "EarlyStopping counter: 2 out of 7\n",
      "[ 6/15] [421/1290] train_loss: 0.03348 valid_loss: 0.03942\n",
      "EarlyStopping counter: 3 out of 7\n",
      "[ 6/15] [451/1290] train_loss: 0.03021 valid_loss: 0.03336\n",
      "Validation loss decreased (0.033964 --> 0.033364).  Saving model ...\n",
      "[ 6/15] [481/1290] train_loss: 0.03206 valid_loss: 0.03321\n",
      "Validation loss decreased (0.033364 --> 0.033206).  Saving model ...\n",
      "[ 6/15] [511/1290] train_loss: 0.03617 valid_loss: 0.03346\n",
      "EarlyStopping counter: 1 out of 7\n",
      "[ 6/15] [541/1290] train_loss: 0.03637 valid_loss: 0.03489\n",
      "EarlyStopping counter: 2 out of 7\n",
      "[ 6/15] [571/1290] train_loss: 0.03533 valid_loss: 0.03298\n",
      "Validation loss decreased (0.033206 --> 0.032985).  Saving model ...\n",
      "[ 6/15] [601/1290] train_loss: 0.03645 valid_loss: 0.03306\n",
      "EarlyStopping counter: 1 out of 7\n",
      "[ 6/15] [631/1290] train_loss: 0.03158 valid_loss: 0.03552\n",
      "EarlyStopping counter: 2 out of 7\n",
      "[ 6/15] [661/1290] train_loss: 0.03707 valid_loss: 0.03257\n",
      "Validation loss decreased (0.032985 --> 0.032565).  Saving model ...\n",
      "[ 6/15] [691/1290] train_loss: 0.03574 valid_loss: 0.03498\n",
      "EarlyStopping counter: 1 out of 7\n",
      "[ 6/15] [721/1290] train_loss: 0.03174 valid_loss: 0.03230\n",
      "Validation loss decreased (0.032565 --> 0.032300).  Saving model ...\n",
      "[ 6/15] [751/1290] train_loss: 0.03201 valid_loss: 0.03228\n",
      "Validation loss decreased (0.032300 --> 0.032278).  Saving model ...\n",
      "[ 6/15] [781/1290] train_loss: 0.03683 valid_loss: 0.03333\n",
      "EarlyStopping counter: 1 out of 7\n",
      "[ 6/15] [811/1290] train_loss: 0.03107 valid_loss: 0.03655\n",
      "EarlyStopping counter: 2 out of 7\n",
      "[ 6/15] [841/1290] train_loss: 0.02986 valid_loss: 0.03266\n",
      "EarlyStopping counter: 3 out of 7\n",
      "[ 6/15] [871/1290] train_loss: 0.03411 valid_loss: 0.03288\n",
      "EarlyStopping counter: 4 out of 7\n",
      "[ 6/15] [901/1290] train_loss: 0.03190 valid_loss: 0.03185\n",
      "Validation loss decreased (0.032278 --> 0.031849).  Saving model ...\n",
      "[ 6/15] [931/1290] train_loss: 0.03157 valid_loss: 0.03182\n",
      "Validation loss decreased (0.031849 --> 0.031825).  Saving model ...\n",
      "[ 6/15] [961/1290] train_loss: 0.03090 valid_loss: 0.03175\n",
      "Validation loss decreased (0.031825 --> 0.031754).  Saving model ...\n",
      "[ 6/15] [991/1290] train_loss: 0.02676 valid_loss: 0.03137\n",
      "Validation loss decreased (0.031754 --> 0.031369).  Saving model ...\n",
      "[ 6/15] [1021/1290] train_loss: 0.02781 valid_loss: 0.03118\n",
      "Validation loss decreased (0.031369 --> 0.031184).  Saving model ...\n",
      "[ 6/15] [1051/1290] train_loss: 0.02846 valid_loss: 0.03120\n",
      "EarlyStopping counter: 1 out of 7\n",
      "[ 6/15] [1081/1290] train_loss: 0.02386 valid_loss: 0.03206\n",
      "EarlyStopping counter: 2 out of 7\n",
      "[ 6/15] [1111/1290] train_loss: 0.03059 valid_loss: 0.03161\n",
      "EarlyStopping counter: 3 out of 7\n",
      "[ 6/15] [1141/1290] train_loss: 0.02836 valid_loss: 0.03226\n",
      "EarlyStopping counter: 4 out of 7\n",
      "[ 6/15] [1171/1290] train_loss: 0.02824 valid_loss: 0.03161\n",
      "EarlyStopping counter: 5 out of 7\n",
      "[ 6/15] [1201/1290] train_loss: 0.02424 valid_loss: 0.03063\n",
      "Validation loss decreased (0.031184 --> 0.030634).  Saving model ...\n",
      "[ 6/15] [1231/1290] train_loss: 0.02836 valid_loss: 0.03076\n",
      "EarlyStopping counter: 1 out of 7\n",
      "[ 6/15] [1261/1290] train_loss: 0.02966 valid_loss: 0.03059\n",
      "Validation loss decreased (0.030634 --> 0.030593).  Saving model ...\n",
      "[ 7/15] [ 1/1290] train_loss: 0.02921 valid_loss: 0.03115\n",
      "EarlyStopping counter: 1 out of 7\n"
     ]
    },
    {
     "name": "stdout",
     "output_type": "stream",
     "text": [
      "[ 7/15] [31/1290] train_loss: 0.03368 valid_loss: 0.03088\n",
      "EarlyStopping counter: 2 out of 7\n",
      "[ 7/15] [61/1290] train_loss: 0.03183 valid_loss: 0.03083\n",
      "EarlyStopping counter: 3 out of 7\n",
      "[ 7/15] [91/1290] train_loss: 0.02759 valid_loss: 0.03064\n",
      "EarlyStopping counter: 4 out of 7\n",
      "[ 7/15] [121/1290] train_loss: 0.03518 valid_loss: 0.03147\n",
      "EarlyStopping counter: 5 out of 7\n",
      "[ 7/15] [151/1290] train_loss: 0.02746 valid_loss: 0.03039\n",
      "Validation loss decreased (0.030593 --> 0.030395).  Saving model ...\n",
      "[ 7/15] [181/1290] train_loss: 0.02588 valid_loss: 0.03051\n",
      "EarlyStopping counter: 1 out of 7\n",
      "[ 7/15] [211/1290] train_loss: 0.02691 valid_loss: 0.03003\n",
      "Validation loss decreased (0.030395 --> 0.030030).  Saving model ...\n",
      "[ 7/15] [241/1290] train_loss: 0.02625 valid_loss: 0.02975\n",
      "Validation loss decreased (0.030030 --> 0.029751).  Saving model ...\n",
      "[ 7/15] [271/1290] train_loss: 0.02470 valid_loss: 0.03083\n",
      "EarlyStopping counter: 1 out of 7\n",
      "[ 7/15] [301/1290] train_loss: 0.03319 valid_loss: 0.03279\n",
      "EarlyStopping counter: 2 out of 7\n",
      "[ 7/15] [331/1290] train_loss: 0.02612 valid_loss: 0.02953\n",
      "Validation loss decreased (0.029751 --> 0.029527).  Saving model ...\n",
      "[ 7/15] [361/1290] train_loss: 0.03060 valid_loss: 0.02964\n",
      "EarlyStopping counter: 1 out of 7\n",
      "[ 7/15] [391/1290] train_loss: 0.02949 valid_loss: 0.02973\n",
      "EarlyStopping counter: 2 out of 7\n",
      "[ 7/15] [421/1290] train_loss: 0.02784 valid_loss: 0.03065\n",
      "EarlyStopping counter: 3 out of 7\n",
      "[ 7/15] [451/1290] train_loss: 0.03014 valid_loss: 0.03173\n",
      "EarlyStopping counter: 4 out of 7\n",
      "[ 7/15] [481/1290] train_loss: 0.02620 valid_loss: 0.02894\n",
      "Validation loss decreased (0.029527 --> 0.028944).  Saving model ...\n",
      "[ 7/15] [511/1290] train_loss: 0.02861 valid_loss: 0.02984\n",
      "EarlyStopping counter: 1 out of 7\n",
      "[ 7/15] [541/1290] train_loss: 0.02613 valid_loss: 0.02930\n",
      "EarlyStopping counter: 2 out of 7\n",
      "[ 7/15] [571/1290] train_loss: 0.02981 valid_loss: 0.02901\n",
      "EarlyStopping counter: 3 out of 7\n",
      "[ 7/15] [601/1290] train_loss: 0.03023 valid_loss: 0.02894\n",
      "Validation loss decreased (0.028944 --> 0.028940).  Saving model ...\n",
      "[ 7/15] [631/1290] train_loss: 0.02973 valid_loss: 0.02877\n",
      "Validation loss decreased (0.028940 --> 0.028774).  Saving model ...\n",
      "[ 7/15] [661/1290] train_loss: 0.02549 valid_loss: 0.02944\n",
      "EarlyStopping counter: 1 out of 7\n",
      "[ 7/15] [691/1290] train_loss: 0.03163 valid_loss: 0.02838\n",
      "Validation loss decreased (0.028774 --> 0.028383).  Saving model ...\n",
      "[ 7/15] [721/1290] train_loss: 0.03152 valid_loss: 0.02860\n",
      "EarlyStopping counter: 1 out of 7\n",
      "[ 7/15] [751/1290] train_loss: 0.02757 valid_loss: 0.02985\n",
      "EarlyStopping counter: 2 out of 7\n",
      "[ 7/15] [781/1290] train_loss: 0.03001 valid_loss: 0.02824\n",
      "Validation loss decreased (0.028383 --> 0.028238).  Saving model ...\n",
      "[ 7/15] [811/1290] train_loss: 0.02664 valid_loss: 0.02808\n",
      "Validation loss decreased (0.028238 --> 0.028076).  Saving model ...\n",
      "[ 7/15] [841/1290] train_loss: 0.02742 valid_loss: 0.03091\n",
      "EarlyStopping counter: 1 out of 7\n",
      "[ 7/15] [871/1290] train_loss: 0.02627 valid_loss: 0.02785\n",
      "Validation loss decreased (0.028076 --> 0.027847).  Saving model ...\n",
      "[ 7/15] [901/1290] train_loss: 0.02493 valid_loss: 0.02863\n",
      "EarlyStopping counter: 1 out of 7\n",
      "[ 7/15] [931/1290] train_loss: 0.02614 valid_loss: 0.02840\n",
      "EarlyStopping counter: 2 out of 7\n",
      "[ 7/15] [961/1290] train_loss: 0.02281 valid_loss: 0.03035\n",
      "EarlyStopping counter: 3 out of 7\n",
      "[ 7/15] [991/1290] train_loss: 0.02746 valid_loss: 0.02744\n",
      "Validation loss decreased (0.027847 --> 0.027435).  Saving model ...\n",
      "[ 7/15] [1021/1290] train_loss: 0.02493 valid_loss: 0.02790\n",
      "EarlyStopping counter: 1 out of 7\n",
      "[ 7/15] [1051/1290] train_loss: 0.02348 valid_loss: 0.02773\n",
      "EarlyStopping counter: 2 out of 7\n",
      "[ 7/15] [1081/1290] train_loss: 0.02397 valid_loss: 0.02793\n",
      "EarlyStopping counter: 3 out of 7\n",
      "[ 7/15] [1111/1290] train_loss: 0.02889 valid_loss: 0.02811\n",
      "EarlyStopping counter: 4 out of 7\n",
      "[ 7/15] [1141/1290] train_loss: 0.02493 valid_loss: 0.02900\n",
      "EarlyStopping counter: 5 out of 7\n",
      "[ 7/15] [1171/1290] train_loss: 0.02651 valid_loss: 0.02686\n",
      "Validation loss decreased (0.027435 --> 0.026862).  Saving model ...\n",
      "[ 7/15] [1201/1290] train_loss: 0.02697 valid_loss: 0.02690\n",
      "EarlyStopping counter: 1 out of 7\n",
      "[ 7/15] [1231/1290] train_loss: 0.03224 valid_loss: 0.02676\n",
      "Validation loss decreased (0.026862 --> 0.026761).  Saving model ...\n",
      "[ 7/15] [1261/1290] train_loss: 0.02522 valid_loss: 0.03039\n",
      "EarlyStopping counter: 1 out of 7\n",
      "[ 8/15] [ 1/1290] train_loss: 0.02742 valid_loss: 0.02662\n",
      "Validation loss decreased (0.026761 --> 0.026618).  Saving model ...\n",
      "[ 8/15] [31/1290] train_loss: 0.02761 valid_loss: 0.02884\n",
      "EarlyStopping counter: 1 out of 7\n",
      "[ 8/15] [61/1290] train_loss: 0.02817 valid_loss: 0.02703\n",
      "EarlyStopping counter: 2 out of 7\n",
      "[ 8/15] [91/1290] train_loss: 0.02645 valid_loss: 0.02777\n",
      "EarlyStopping counter: 3 out of 7\n",
      "[ 8/15] [121/1290] train_loss: 0.02717 valid_loss: 0.02665\n",
      "EarlyStopping counter: 4 out of 7\n",
      "[ 8/15] [151/1290] train_loss: 0.02642 valid_loss: 0.02658\n",
      "Validation loss decreased (0.026618 --> 0.026578).  Saving model ...\n",
      "[ 8/15] [181/1290] train_loss: 0.02440 valid_loss: 0.02735\n",
      "EarlyStopping counter: 1 out of 7\n",
      "[ 8/15] [211/1290] train_loss: 0.02420 valid_loss: 0.02597\n",
      "Validation loss decreased (0.026578 --> 0.025970).  Saving model ...\n",
      "[ 8/15] [241/1290] train_loss: 0.02553 valid_loss: 0.02586\n",
      "Validation loss decreased (0.025970 --> 0.025862).  Saving model ...\n",
      "[ 8/15] [271/1290] train_loss: 0.02185 valid_loss: 0.02574\n",
      "Validation loss decreased (0.025862 --> 0.025745).  Saving model ...\n",
      "[ 8/15] [301/1290] train_loss: 0.02679 valid_loss: 0.02569\n",
      "Validation loss decreased (0.025745 --> 0.025690).  Saving model ...\n",
      "[ 8/15] [331/1290] train_loss: 0.02200 valid_loss: 0.02736\n",
      "EarlyStopping counter: 1 out of 7\n",
      "[ 8/15] [361/1290] train_loss: 0.02590 valid_loss: 0.02584\n",
      "EarlyStopping counter: 2 out of 7\n",
      "[ 8/15] [391/1290] train_loss: 0.02604 valid_loss: 0.02749\n",
      "EarlyStopping counter: 3 out of 7\n",
      "[ 8/15] [421/1290] train_loss: 0.02754 valid_loss: 0.02556\n",
      "Validation loss decreased (0.025690 --> 0.025564).  Saving model ...\n",
      "[ 8/15] [451/1290] train_loss: 0.02146 valid_loss: 0.02787\n",
      "EarlyStopping counter: 1 out of 7\n",
      "[ 8/15] [481/1290] train_loss: 0.02559 valid_loss: 0.02595\n",
      "EarlyStopping counter: 2 out of 7\n",
      "[ 8/15] [511/1290] train_loss: 0.02582 valid_loss: 0.02572\n",
      "EarlyStopping counter: 3 out of 7\n",
      "[ 8/15] [541/1290] train_loss: 0.02556 valid_loss: 0.02658\n",
      "EarlyStopping counter: 4 out of 7\n",
      "[ 8/15] [571/1290] train_loss: 0.02414 valid_loss: 0.02578\n",
      "EarlyStopping counter: 5 out of 7\n",
      "[ 8/15] [601/1290] train_loss: 0.02489 valid_loss: 0.02504\n",
      "Validation loss decreased (0.025564 --> 0.025036).  Saving model ...\n",
      "[ 8/15] [631/1290] train_loss: 0.02505 valid_loss: 0.02489\n",
      "Validation loss decreased (0.025036 --> 0.024886).  Saving model ...\n",
      "[ 8/15] [661/1290] train_loss: 0.02320 valid_loss: 0.02607\n",
      "EarlyStopping counter: 1 out of 7\n",
      "[ 8/15] [691/1290] train_loss: 0.02393 valid_loss: 0.02466\n",
      "Validation loss decreased (0.024886 --> 0.024657).  Saving model ...\n",
      "[ 8/15] [721/1290] train_loss: 0.02335 valid_loss: 0.02454\n",
      "Validation loss decreased (0.024657 --> 0.024538).  Saving model ...\n",
      "[ 8/15] [751/1290] train_loss: 0.02362 valid_loss: 0.02689\n",
      "EarlyStopping counter: 1 out of 7\n",
      "[ 8/15] [781/1290] train_loss: 0.02556 valid_loss: 0.02690\n",
      "EarlyStopping counter: 2 out of 7\n",
      "[ 8/15] [811/1290] train_loss: 0.02651 valid_loss: 0.02480\n",
      "EarlyStopping counter: 3 out of 7\n",
      "[ 8/15] [841/1290] train_loss: 0.02376 valid_loss: 0.02515\n",
      "EarlyStopping counter: 4 out of 7\n",
      "[ 8/15] [871/1290] train_loss: 0.02191 valid_loss: 0.02435\n",
      "Validation loss decreased (0.024538 --> 0.024354).  Saving model ...\n",
      "[ 8/15] [901/1290] train_loss: 0.01691 valid_loss: 0.02438\n",
      "EarlyStopping counter: 1 out of 7\n",
      "[ 8/15] [931/1290] train_loss: 0.02212 valid_loss: 0.02431\n",
      "Validation loss decreased (0.024354 --> 0.024314).  Saving model ...\n",
      "[ 8/15] [961/1290] train_loss: 0.02633 valid_loss: 0.02415\n",
      "Validation loss decreased (0.024314 --> 0.024154).  Saving model ...\n",
      "[ 8/15] [991/1290] train_loss: 0.02414 valid_loss: 0.02548\n",
      "EarlyStopping counter: 1 out of 7\n",
      "[ 8/15] [1021/1290] train_loss: 0.02446 valid_loss: 0.02430\n",
      "EarlyStopping counter: 2 out of 7\n",
      "[ 8/15] [1051/1290] train_loss: 0.02225 valid_loss: 0.02401\n",
      "Validation loss decreased (0.024154 --> 0.024008).  Saving model ...\n"
     ]
    },
    {
     "name": "stdout",
     "output_type": "stream",
     "text": [
      "[ 8/15] [1081/1290] train_loss: 0.02663 valid_loss: 0.02511\n",
      "EarlyStopping counter: 1 out of 7\n",
      "[ 8/15] [1111/1290] train_loss: 0.02962 valid_loss: 0.02568\n",
      "EarlyStopping counter: 2 out of 7\n",
      "[ 8/15] [1141/1290] train_loss: 0.02124 valid_loss: 0.02534\n",
      "EarlyStopping counter: 3 out of 7\n",
      "[ 8/15] [1171/1290] train_loss: 0.02436 valid_loss: 0.02400\n",
      "Validation loss decreased (0.024008 --> 0.023998).  Saving model ...\n",
      "[ 8/15] [1201/1290] train_loss: 0.01962 valid_loss: 0.02393\n",
      "Validation loss decreased (0.023998 --> 0.023928).  Saving model ...\n",
      "[ 8/15] [1231/1290] train_loss: 0.02402 valid_loss: 0.02390\n",
      "Validation loss decreased (0.023928 --> 0.023903).  Saving model ...\n",
      "[ 8/15] [1261/1290] train_loss: 0.02748 valid_loss: 0.02450\n",
      "EarlyStopping counter: 1 out of 7\n",
      "[ 9/15] [ 1/1290] train_loss: 0.02167 valid_loss: 0.02347\n",
      "Validation loss decreased (0.023903 --> 0.023467).  Saving model ...\n",
      "[ 9/15] [31/1290] train_loss: 0.02264 valid_loss: 0.02333\n",
      "Validation loss decreased (0.023467 --> 0.023329).  Saving model ...\n",
      "[ 9/15] [61/1290] train_loss: 0.02315 valid_loss: 0.02356\n",
      "EarlyStopping counter: 1 out of 7\n",
      "[ 9/15] [91/1290] train_loss: 0.02144 valid_loss: 0.02334\n",
      "EarlyStopping counter: 2 out of 7\n",
      "[ 9/15] [121/1290] train_loss: 0.02181 valid_loss: 0.02408\n",
      "EarlyStopping counter: 3 out of 7\n",
      "[ 9/15] [151/1290] train_loss: 0.02206 valid_loss: 0.02697\n",
      "EarlyStopping counter: 4 out of 7\n",
      "[ 9/15] [181/1290] train_loss: 0.02368 valid_loss: 0.02392\n",
      "EarlyStopping counter: 5 out of 7\n",
      "[ 9/15] [211/1290] train_loss: 0.02379 valid_loss: 0.02404\n",
      "EarlyStopping counter: 6 out of 7\n",
      "[ 9/15] [241/1290] train_loss: 0.02177 valid_loss: 0.02309\n",
      "Validation loss decreased (0.023329 --> 0.023090).  Saving model ...\n",
      "[ 9/15] [271/1290] train_loss: 0.01897 valid_loss: 0.02340\n",
      "EarlyStopping counter: 1 out of 7\n",
      "[ 9/15] [301/1290] train_loss: 0.01902 valid_loss: 0.02468\n",
      "EarlyStopping counter: 2 out of 7\n",
      "[ 9/15] [331/1290] train_loss: 0.02574 valid_loss: 0.02360\n",
      "EarlyStopping counter: 3 out of 7\n",
      "[ 9/15] [361/1290] train_loss: 0.01972 valid_loss: 0.02391\n",
      "EarlyStopping counter: 4 out of 7\n",
      "[ 9/15] [391/1290] train_loss: 0.02411 valid_loss: 0.02337\n",
      "EarlyStopping counter: 5 out of 7\n",
      "[ 9/15] [421/1290] train_loss: 0.02077 valid_loss: 0.02735\n",
      "EarlyStopping counter: 6 out of 7\n",
      "[ 9/15] [451/1290] train_loss: 0.02140 valid_loss: 0.02778\n",
      "EarlyStopping counter: 7 out of 7\n",
      "Early stopping\n"
     ]
    }
   ],
   "source": [
    "net_type = [Net().__class__, Net2().__class__]\n",
    "net = [] \n",
    "best_net = []\n",
    "\n",
    "for i in range(num_folds):\n",
    "    net.append(net_type[i % len(net_type)]())\n",
    "    best_net.append(net_type[i % len(net_type)]())\n",
    "\n",
    "model, best_model, train_loss, valid_loss = train_model(net,best_net)"
   ]
  },
  {
   "cell_type": "code",
   "execution_count": 54,
   "metadata": {},
   "outputs": [],
   "source": [
    "for i in range(num_folds):\n",
    "    PATH = model_folder + \"/\" + model_name + str(i) +\".pt\"\n",
    "    torch.save(best_model[i].state_dict(), PATH)"
   ]
  },
  {
   "cell_type": "markdown",
   "metadata": {},
   "source": [
    "## Step 4:"
   ]
  },
  {
   "cell_type": "markdown",
   "metadata": {},
   "source": [
    "* __Some stats about the train dataset:__"
   ]
  },
  {
   "cell_type": "code",
   "execution_count": null,
   "metadata": {},
   "outputs": [],
   "source": [
    "labels = stat_img (validation_loader)"
   ]
  },
  {
   "cell_type": "code",
   "execution_count": 56,
   "metadata": {},
   "outputs": [
    {
     "data": {
      "text/plain": [
       "<matplotlib.axes._subplots.AxesSubplot at 0x7fdcbb64f0b8>"
      ]
     },
     "execution_count": 56,
     "metadata": {},
     "output_type": "execute_result"
    },
    {
     "data": {
      "image/png": "[encoded data removed]",
      "text/plain": [
       "<matplotlib.figure.Figure at 0x7fdcbb67a320>"
      ]
     },
     "metadata": {},
     "output_type": "display_data"
    }
   ],
   "source": [
    "test = dict()\n",
    "for i in range(len(labels)):\n",
    "    test[i] = Counter(labels[i])\n",
    "df = pandas.DataFrame.from_dict(test, orient='index')\n",
    "df.plot(kind='bar')"
   ]
  },
  {
   "cell_type": "code",
   "execution_count": 57,
   "metadata": {},
   "outputs": [
    {
     "name": "stdout",
     "output_type": "stream",
     "text": [
      "******************************************\n",
      "******* Description of the datasets ****** \n",
      "******************************************\n",
      "*************** DATASET N° 0 ************* \n",
      "------------------------------------------\n",
      " Number of faces :  6439\n",
      " Number of others:  2733\n",
      " Total           :  9172\n",
      "------------------------------------------\n",
      " Number of faces :  70%\n",
      " Number of others:  30%\n",
      "******************************************\n",
      "*************** DATASET N° 1 ************* \n",
      "------------------------------------------\n",
      " Number of faces :  6548\n",
      " Number of others:  2624\n",
      " Total           :  9172\n",
      "------------------------------------------\n",
      " Number of faces :  71%\n",
      " Number of others:  29%\n",
      "******************************************\n"
     ]
    }
   ],
   "source": [
    "print(\"******************************************\")\n",
    "print(\"******* Description of the datasets ****** \")\n",
    "print(\"******************************************\")\n",
    "\n",
    "for i in range(len(labels)):\n",
    "    faces = df['face'][i]\n",
    "    others = df['other'][i]\n",
    "    print(\"*************** DATASET N° {0:1} ************* \".format(i))\n",
    "    print(\"------------------------------------------\")\n",
    "    print(\" Number of faces : \",faces)\n",
    "    print(\" Number of others: \",others)\n",
    "    print(\" Total           : \", faces+others)\n",
    "    print(\"------------------------------------------\")\n",
    "    print(\" Number of faces :  {0:.0%}\".format(faces/(faces+others)))\n",
    "    print(\" Number of others:  {0:.0%}\".format(others/(faces+others)))\n",
    "    print(\"******************************************\")\n"
   ]
  },
  {
   "cell_type": "markdown",
   "metadata": {},
   "source": [
    "* __Visualizing the Loss and the Early Stopping Checkpoint__"
   ]
  },
  {
   "cell_type": "code",
   "execution_count": 58,
   "metadata": {},
   "outputs": [
    {
     "data": {
      "image/png": "[encoded data removed]",
      "text/plain": [
       "<matplotlib.figure.Figure at 0x7fdcba857cf8>"
      ]
     },
     "metadata": {},
     "output_type": "display_data"
    },
    {
     "data": {
      "image/png": "[encoded data removed]",
      "text/plain": [
       "<matplotlib.figure.Figure at 0x7fdcba878c88>"
      ]
     },
     "metadata": {},
     "output_type": "display_data"
    }
   ],
   "source": [
    "for i in range(len(labels)):\n",
    "    # visualize the loss as the network trained\n",
    "    fig = plt.figure(figsize=(10,8))\n",
    "    plt.plot(range(1,len(train_loss[i])+1),train_loss[i], label='Training Loss')\n",
    "    plt.plot(range(1,len(valid_loss[i])+1),valid_loss[i],label='Validation Loss')\n",
    "\n",
    "    # find position of lowest validation loss\n",
    "    minposs = valid_loss[i].index(min(valid_loss[i]))+1 \n",
    "    plt.axvline(minposs, linestyle='--', color='r',label='Early Stopping Checkpoint')\n",
    "\n",
    "    plt.xlabel('mini-batches')\n",
    "    plt.ylabel('loss')\n",
    "    plt.ylim(0, 0.3) # consistent scale\n",
    "    plt.xlim(0, len(train_loss[i])+1)\n",
    "    plt.grid(True)\n",
    "    plt.legend()\n",
    "    plt.tight_layout()\n",
    "    plt.show()\n",
    "    fig.savefig('loss_plot.png', bbox_inches='tight')"
   ]
  },
  {
   "cell_type": "markdown",
   "metadata": {},
   "source": [
    "## Step 5:"
   ]
  },
  {
   "cell_type": "markdown",
   "metadata": {},
   "source": [
    "* __Some stats about the test dataset:__"
   ]
  },
  {
   "cell_type": "code",
   "execution_count": 59,
   "metadata": {},
   "outputs": [],
   "source": [
    "def stat_img_test (test_loader):\n",
    "    list_labels=[]\n",
    "    for i, data in enumerate(test_loader,0):\n",
    "        inputs, labels = data\n",
    "        for j in range(len(labels)):\n",
    "            list_labels.append(classes[labels[j]])\n",
    "    \n",
    "    return list_labels"
   ]
  },
  {
   "cell_type": "code",
   "execution_count": 60,
   "metadata": {},
   "outputs": [],
   "source": [
    "labels = stat_img_test (test_loader)"
   ]
  },
  {
   "cell_type": "code",
   "execution_count": 61,
   "metadata": {},
   "outputs": [
    {
     "data": {
      "text/plain": [
       "<matplotlib.axes._subplots.AxesSubplot at 0x7fdcba8577b8>"
      ]
     },
     "execution_count": 61,
     "metadata": {},
     "output_type": "execute_result"
    },
    {
     "data": {
      "image/png": "[encoded data removed]",
      "text/plain": [
       "<matplotlib.figure.Figure at 0x7fdcba7cbd30>"
      ]
     },
     "metadata": {},
     "output_type": "display_data"
    }
   ],
   "source": [
    "labels_counts = Counter(labels)\n",
    "df = pandas.DataFrame.from_dict(labels_counts, orient='index')\n",
    "df.plot(kind='bar')"
   ]
  },
  {
   "cell_type": "code",
   "execution_count": 62,
   "metadata": {},
   "outputs": [
    {
     "name": "stdout",
     "output_type": "stream",
     "text": [
      "****** Description of the dataset ******* \n",
      "-----------------------------------------\n",
      " Number of faces :  797\n",
      " Number of others:  6831\n",
      " Total           :  7628\n",
      "-----------------------------------------\n",
      " Number of faces :  10%\n",
      " Number of others:  90%\n",
      "-----------------------------------------\n"
     ]
    }
   ],
   "source": [
    "faces = df[0]['face']\n",
    "others = df[0]['other']\n",
    "\n",
    "print(\"****** Description of the dataset ******* \")\n",
    "print(\"-----------------------------------------\")\n",
    "print(\" Number of faces : \",faces)\n",
    "print(\" Number of others: \",others)\n",
    "print(\" Total           : \", faces+others)\n",
    "print(\"-----------------------------------------\")\n",
    "print(\" Number of faces :  {0:.0%}\".format(faces/(faces+others)))\n",
    "print(\" Number of others:  {0:.0%}\".format(others/(faces+others)))\n",
    "print(\"-----------------------------------------\")\n"
   ]
  },
  {
   "cell_type": "markdown",
   "metadata": {},
   "source": [
    "* __Visualizing some random images from the validation dataset and comparing with the prediction  :__"
   ]
  },
  {
   "cell_type": "code",
   "execution_count": 18,
   "metadata": {},
   "outputs": [
    {
     "data": {
      "image/png": "[encoded data removed]",
      "text/plain": [
       "<matplotlib.figure.Figure at 0x7f2bad953ba8>"
      ]
     },
     "metadata": {},
     "output_type": "display_data"
    },
    {
     "name": "stdout",
     "output_type": "stream",
     "text": [
      "GroundTruth:   face  face  face  face\n",
      "Predicted:   face  face  face  face\n"
     ]
    }
   ],
   "source": [
    "dataiter = iter(validation_loader[0])\n",
    "images, labels = dataiter.next()\n",
    "\n",
    "# print images\n",
    "imshow(torchvision.utils.make_grid([images[j] for j in range(4)]))\n",
    "print('GroundTruth: ', ' '.join('%5s' % classes[labels[j]] for j in range(4)))\n",
    "\n",
    "net = Net()\n",
    "PATH = './models/model.pt'\n",
    "net.load_state_dict(torch.load(PATH))\n",
    "\n",
    "outputs = net(images)\n",
    "\n",
    "_, predicted = torch.max(outputs, 1)\n",
    "\n",
    "print('Predicted: ', ' '.join('%5s' % classes[predicted[j]]\n",
    "                              for j in range(4)))"
   ]
  },
  {
   "cell_type": "code",
   "execution_count": 19,
   "metadata": {},
   "outputs": [
    {
     "name": "stdout",
     "output_type": "stream",
     "text": [
      "Accuracy of the network on the 10004 test images: 99 %\n",
      "Average accuracy of the network : 99 %\n"
     ]
    }
   ],
   "source": [
    "correct = 0\n",
    "total = 0\n",
    "with torch.no_grad():\n",
    "    avg = []\n",
    "    for i in range(num_folds):\n",
    "        for data in iter(validation_loader[i]):\n",
    "            images, labels = data\n",
    "            outputs = net(images)\n",
    "            _, predicted = torch.max(outputs.data, 1)\n",
    "            total += labels.size(0)\n",
    "            correct += (predicted == labels).sum().item()\n",
    "            if total > 10000 :\n",
    "                print('Accuracy of the network on the %2d test images: %d %%'  % (total, 100 * correct / total))\n",
    "                tmp = float(100 * correct / total)\n",
    "                avg.append(tmp)\n",
    "                break\n",
    "    \n",
    "    print('Average accuracy of the network : {} %'.format(int(np.average(avg))))\n"
   ]
  },
  {
   "cell_type": "code",
   "execution_count": 20,
   "metadata": {},
   "outputs": [],
   "source": [
    "class_correct = list(0. for i in range(10))\n",
    "class_total = list(0. for i in range(10))\n",
    "with torch.no_grad():\n",
    "    for data in iter(validation_loader[0]):\n",
    "        images, labels = data\n",
    "        outputs = net(images)\n",
    "        _, predicted = torch.max(outputs, 1)\n",
    "        c = (predicted == labels).squeeze()\n",
    "        for i in range(4):\n",
    "            label = labels[i]\n",
    "            class_correct[label] += c[i].item()\n",
    "            class_total[label] += 1"
   ]
  },
  {
   "cell_type": "code",
   "execution_count": 21,
   "metadata": {},
   "outputs": [
    {
     "name": "stdout",
     "output_type": "stream",
     "text": [
      "Accuracy of other : 100 %\n",
      "Accuracy of  face : 100 %\n"
     ]
    }
   ],
   "source": [
    "for i in range(2):\n",
    "    print('Accuracy of %5s : %2d %%' % (\n",
    "        classes[i], 100 * class_correct[i] / class_total[i]))"
   ]
  },
  {
   "cell_type": "markdown",
   "metadata": {},
   "source": [
    "* __Visualizing some random images from the test dataset and comparing with the prediction  :__"
   ]
  },
  {
   "cell_type": "code",
   "execution_count": 22,
   "metadata": {},
   "outputs": [
    {
     "data": {
      "image/png": "[encoded data removed]",
      "text/plain": [
       "<matplotlib.figure.Figure at 0x7f2c2bf3a470>"
      ]
     },
     "metadata": {},
     "output_type": "display_data"
    },
    {
     "name": "stdout",
     "output_type": "stream",
     "text": [
      "GroundTruth:  other other other other\n",
      "Predicted:  other other other other\n"
     ]
    }
   ],
   "source": [
    "dataiter = iter(test_loader)\n",
    "images, labels = dataiter.next()\n",
    "\n",
    "# print images\n",
    "imshow(torchvision.utils.make_grid(images))\n",
    "print('GroundTruth: ', ' '.join('%5s' % classes[labels[j]] for j in range(4)))\n",
    "\n",
    "outputs = net(images)\n",
    "\n",
    "_, predicted = torch.max(outputs, 1)\n",
    "\n",
    "print('Predicted: ', ' '.join('%5s' % classes[predicted[j]]\n",
    "                              for j in range(4)))"
   ]
  },
  {
   "cell_type": "code",
   "execution_count": 23,
   "metadata": {},
   "outputs": [
    {
     "name": "stdout",
     "output_type": "stream",
     "text": [
      "Accuracy of the network on the 7628 test images: 98 %\n"
     ]
    }
   ],
   "source": [
    "correct = 0\n",
    "total = 0\n",
    "with torch.no_grad():\n",
    "    for data in iter(test_loader):\n",
    "        images, labels = data\n",
    "        outputs = net(images)\n",
    "        _, predicted = torch.max(outputs.data, 1)\n",
    "        total += labels.size(0)\n",
    "        correct += (predicted == labels).sum().item()\n",
    "\n",
    "print('Accuracy of the network on the %2d test images: %d %%'  % (total,\n",
    "    100 * correct / total))"
   ]
  },
  {
   "cell_type": "code",
   "execution_count": 24,
   "metadata": {},
   "outputs": [],
   "source": [
    "class_correct = list(0. for i in range(10))\n",
    "class_total = list(0. for i in range(10))\n",
    "with torch.no_grad():\n",
    "    for data in iter(test_loader):\n",
    "        images, labels = data\n",
    "        outputs = net(images)\n",
    "        _, predicted = torch.max(outputs, 1)\n",
    "        c = (predicted == labels).squeeze()\n",
    "        for i in range(4):\n",
    "            label = labels[i]\n",
    "            class_correct[label] += c[i].item()\n",
    "            class_total[label] += 1"
   ]
  },
  {
   "cell_type": "code",
   "execution_count": 25,
   "metadata": {},
   "outputs": [
    {
     "name": "stdout",
     "output_type": "stream",
     "text": [
      "Accuracy of other : 99 %\n",
      "Accuracy of  face : 87 %\n"
     ]
    }
   ],
   "source": [
    "for i in range(2):\n",
    "    print('Accuracy of %5s : %2d %%' % (\n",
    "        classes[i], 100 * class_correct[i] / class_total[i]))"
   ]
  },
  {
   "cell_type": "code",
   "execution_count": 26,
   "metadata": {},
   "outputs": [],
   "source": [
    "@torch.no_grad()\n",
    "def get_all_preds(model, loader):\n",
    "    all_preds = torch.tensor([])\n",
    "    for batch in loader:\n",
    "        images, labels = batch\n",
    "\n",
    "        preds = model(images)\n",
    "        all_preds = torch.cat(\n",
    "            (all_preds, preds)\n",
    "            ,dim=0\n",
    "        )\n",
    "    return all_preds"
   ]
  },
  {
   "cell_type": "code",
   "execution_count": 34,
   "metadata": {},
   "outputs": [],
   "source": [
    "with torch.no_grad():\n",
    "    prediction_loader = torch.utils.data.DataLoader(testset, batch_size=10000)\n",
    "    train_preds = get_all_preds(net, test_loader)"
   ]
  },
  {
   "cell_type": "code",
   "execution_count": 37,
   "metadata": {},
   "outputs": [],
   "source": [
    "def plot_confusion_matrix(cm, classes, normalize=False, title='Confusion matrix', cmap=plt.cm.Blues):\n",
    "    plt.imshow(cm, interpolation='nearest', cmap=cmap)\n",
    "    plt.title(title)\n",
    "    plt.colorbar()\n",
    "    tick_marks = np.arange(len(classes))\n",
    "    plt.xticks(tick_marks, classes, rotation=45)\n",
    "    plt.yticks(tick_marks, classes)\n",
    "\n",
    "    fmt = '.2f' if normalize else 'd'\n",
    "    thresh = cm.max() / 2.\n",
    "    for i, j in itertools.product(range(cm.shape[0]), range(cm.shape[1])):\n",
    "        plt.text(j, i, format(cm[i, j], fmt), horizontalalignment=\"center\", color=\"white\" if cm[i, j] > thresh else \"black\")\n",
    "\n",
    "    plt.tight_layout()\n",
    "    plt.ylabel('True label')\n",
    "    plt.xlabel('Predicted label')"
   ]
  },
  {
   "cell_type": "code",
   "execution_count": 39,
   "metadata": {},
   "outputs": [],
   "source": [
    "import matplotlib.pyplot as plt\n",
    "import itertools\n",
    "\n",
    "from sklearn.metrics import confusion_matrix"
   ]
  },
  {
   "cell_type": "code",
   "execution_count": 40,
   "metadata": {},
   "outputs": [
    {
     "name": "stdout",
     "output_type": "stream",
     "text": [
      "Confusion matrix, without normalization\n",
      "[[6813   18]\n",
      " [ 103  694]]\n"
     ]
    },
    {
     "data": {
      "image/png": "[encoded data removed]",
      "text/plain": [
       "<matplotlib.figure.Figure at 0x7f2b75981390>"
      ]
     },
     "metadata": {},
     "output_type": "display_data"
    }
   ],
   "source": [
    "cm = confusion_matrix(testset.targets, train_preds.argmax(dim=1))\n",
    "plot_confusion_matrix(cm, classes)"
   ]
  },
  {
   "cell_type": "code",
   "execution_count": null,
   "metadata": {},
   "outputs": [],
   "source": []
  },
  {
   "cell_type": "code",
   "execution_count": null,
   "metadata": {},
   "outputs": [],
   "source": []
  }
 ],
 "metadata": {
  "kernelspec": {
   "display_name": "Python 3",
   "language": "python",
   "name": "python3"
  },
  "language_info": {
   "codemirror_mode": {
    "name": "ipython",
    "version": 3
   },
   "file_extension": ".py",
   "mimetype": "text/x-python",
   "name": "python",
   "nbconvert_exporter": "python",
   "pygments_lexer": "ipython3",
   "version": "3.6.5"
  }
 },
 "nbformat": 4,
 "nbformat_minor": 2
}